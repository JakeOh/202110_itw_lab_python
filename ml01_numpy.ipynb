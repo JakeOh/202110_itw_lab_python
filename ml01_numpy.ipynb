{
  "nbformat": 4,
  "nbformat_minor": 0,
  "metadata": {
    "colab": {
      "name": "ml01_numpy.ipynb",
      "provenance": [],
      "collapsed_sections": [],
      "authorship_tag": "ABX9TyPH5FTsep44x/B+P6nQU89Y",
      "include_colab_link": true
    },
    "kernelspec": {
      "name": "python3",
      "display_name": "Python 3"
    },
    "language_info": {
      "name": "python"
    }
  },
  "cells": [
    {
      "cell_type": "markdown",
      "metadata": {
        "id": "view-in-github",
        "colab_type": "text"
      },
      "source": [
        "<a href=\"https://colab.research.google.com/github/JakeOh/202110_itw_lab_python/blob/main/ml01_numpy.ipynb\" target=\"_parent\"><img src=\"https://colab.research.google.com/assets/colab-badge.svg\" alt=\"Open In Colab\"/></a>"
      ]
    },
    {
      "cell_type": "markdown",
      "source": [
        "필요한 라이브러리 모듈 임포트"
      ],
      "metadata": {
        "id": "0XkKwpbrrMTX"
      }
    },
    {
      "cell_type": "code",
      "execution_count": 1,
      "metadata": {
        "id": "DemxA0FOq4-t"
      },
      "outputs": [],
      "source": [
        "import numpy as np\n",
        "import pandas as pd\n",
        "import matplotlib.pyplot as plt\n",
        "import seaborn as sns"
      ]
    },
    {
      "cell_type": "markdown",
      "source": [
        "# np.ndarray 클래스 속성들(properties)"
      ],
      "metadata": {
        "id": "ZpoiGP7XrQy9"
      }
    },
    {
      "cell_type": "code",
      "source": [
        "# 모든 원소가 1.0으로 이루어진 (3, 4) 모양의 2차원 배열 생성\n",
        "array = np.ones((3, 4))"
      ],
      "metadata": {
        "id": "Kry4myJUrKO-"
      },
      "execution_count": 2,
      "outputs": []
    },
    {
      "cell_type": "code",
      "source": [
        "print(array)"
      ],
      "metadata": {
        "colab": {
          "base_uri": "https://localhost:8080/"
        },
        "id": "8Z4q5KWjrxxt",
        "outputId": "bcddba2a-9342-480e-f6d9-5a0ad930f8dc"
      },
      "execution_count": 3,
      "outputs": [
        {
          "output_type": "stream",
          "name": "stdout",
          "text": [
            "[[1. 1. 1. 1.]\n",
            " [1. 1. 1. 1.]\n",
            " [1. 1. 1. 1.]]\n"
          ]
        }
      ]
    },
    {
      "cell_type": "code",
      "source": [
        "type(array)"
      ],
      "metadata": {
        "colab": {
          "base_uri": "https://localhost:8080/"
        },
        "id": "2NQLeE7LrzFE",
        "outputId": "54a0d03f-c038-4edd-a856-7dbda44c0b76"
      },
      "execution_count": 4,
      "outputs": [
        {
          "output_type": "execute_result",
          "data": {
            "text/plain": [
              "numpy.ndarray"
            ]
          },
          "metadata": {},
          "execution_count": 4
        }
      ]
    },
    {
      "cell_type": "code",
      "source": [
        "array.dtype  # 배열의 원소의 데이터 타입"
      ],
      "metadata": {
        "colab": {
          "base_uri": "https://localhost:8080/"
        },
        "id": "MK5Pu6edsId9",
        "outputId": "585e1316-b7d6-4323-caa1-fa8f14999f06"
      },
      "execution_count": 5,
      "outputs": [
        {
          "output_type": "execute_result",
          "data": {
            "text/plain": [
              "dtype('float64')"
            ]
          },
          "metadata": {},
          "execution_count": 5
        }
      ]
    },
    {
      "cell_type": "code",
      "source": [
        "array.shape  # 배열의 각 축(axis)를 따라서 있는 원소들의 개수로 만들어진 tuple"
      ],
      "metadata": {
        "colab": {
          "base_uri": "https://localhost:8080/"
        },
        "id": "UHYqQMFbsZrE",
        "outputId": "3a73f816-5a3a-4b2f-a224-68fa72016e48"
      },
      "execution_count": 6,
      "outputs": [
        {
          "output_type": "execute_result",
          "data": {
            "text/plain": [
              "(3, 4)"
            ]
          },
          "metadata": {},
          "execution_count": 6
        }
      ]
    },
    {
      "cell_type": "code",
      "source": [
        "array.size  # 배열의 모든 원소들의 개수"
      ],
      "metadata": {
        "colab": {
          "base_uri": "https://localhost:8080/"
        },
        "id": "xC5NPNCnskW0",
        "outputId": "0d880b2d-3a22-41fd-8416-17def544ba92"
      },
      "execution_count": 7,
      "outputs": [
        {
          "output_type": "execute_result",
          "data": {
            "text/plain": [
              "12"
            ]
          },
          "metadata": {},
          "execution_count": 7
        }
      ]
    },
    {
      "cell_type": "code",
      "source": [
        "array.ndim  # 배열의 차원의 개수(number of dimension). 배열의 축(axis)의 개수."
      ],
      "metadata": {
        "colab": {
          "base_uri": "https://localhost:8080/"
        },
        "id": "7cCeczX5tDLG",
        "outputId": "226fa5c8-e43f-4930-e1c2-f223f982e339"
      },
      "execution_count": 8,
      "outputs": [
        {
          "output_type": "execute_result",
          "data": {
            "text/plain": [
              "2"
            ]
          },
          "metadata": {},
          "execution_count": 8
        }
      ]
    },
    {
      "cell_type": "code",
      "source": [
        "# [1, 6) 범위의 정수들로 이루어진 1차원 배열\n",
        "array = np.arange(1, 6)\n",
        "print(array)"
      ],
      "metadata": {
        "colab": {
          "base_uri": "https://localhost:8080/"
        },
        "id": "CoCA3OvluCqV",
        "outputId": "403178dd-5e6f-4142-d47b-203b61e1eba4"
      },
      "execution_count": 9,
      "outputs": [
        {
          "output_type": "stream",
          "name": "stdout",
          "text": [
            "[1 2 3 4 5]\n"
          ]
        }
      ]
    },
    {
      "cell_type": "code",
      "source": [
        "print('dtype:', array.dtype)\n",
        "print('shape:', array.shape)\n",
        "print('size:', array.size)\n",
        "print('ndim:', array.ndim)"
      ],
      "metadata": {
        "colab": {
          "base_uri": "https://localhost:8080/"
        },
        "id": "sKL8OzvbuVPe",
        "outputId": "90609053-dd74-4971-eb38-caea3de5ad6b"
      },
      "execution_count": 10,
      "outputs": [
        {
          "output_type": "stream",
          "name": "stdout",
          "text": [
            "dtype: int64\n",
            "shape: (5,)\n",
            "size: 5\n",
            "ndim: 1\n"
          ]
        }
      ]
    },
    {
      "cell_type": "code",
      "source": [
        "# [1, 25) 범위의 정수들로 이루어진 (2, 3, 4) shape의 3차원 배열\n",
        "array = np.arange(1, 25).reshape((2, 3, 4))\n",
        "print(array)"
      ],
      "metadata": {
        "colab": {
          "base_uri": "https://localhost:8080/"
        },
        "id": "SF6WC4dYuil0",
        "outputId": "ce030b19-d0d8-4c86-e648-cf69f3d32b9c"
      },
      "execution_count": 12,
      "outputs": [
        {
          "output_type": "stream",
          "name": "stdout",
          "text": [
            "[[[ 1  2  3  4]\n",
            "  [ 5  6  7  8]\n",
            "  [ 9 10 11 12]]\n",
            "\n",
            " [[13 14 15 16]\n",
            "  [17 18 19 20]\n",
            "  [21 22 23 24]]]\n"
          ]
        }
      ]
    },
    {
      "cell_type": "code",
      "source": [
        "print('dtype:', array.dtype)\n",
        "print('shape:', array.shape)\n",
        "print('size:', array.size)\n",
        "print('ndim:', array.ndim)"
      ],
      "metadata": {
        "colab": {
          "base_uri": "https://localhost:8080/"
        },
        "id": "PDsl-PChvPsV",
        "outputId": "d8102919-5df1-4c73-cdc5-7acfb008d811"
      },
      "execution_count": 13,
      "outputs": [
        {
          "output_type": "stream",
          "name": "stdout",
          "text": [
            "dtype: int64\n",
            "shape: (2, 3, 4)\n",
            "size: 24\n",
            "ndim: 3\n"
          ]
        }
      ]
    },
    {
      "cell_type": "markdown",
      "source": [
        "np.ndarray의 indexing\n",
        "\n",
        "* Python list 인덱스 사용 방법: `list[i][j][k]...`\n",
        "* numpy ndarray 인덱스 사용 방법:\n",
        "    * `array[i][j][k]...`\n",
        "    * `array[i, j, k, ...]`\n"
      ],
      "metadata": {
        "id": "vzfLSOmUwoS1"
      }
    },
    {
      "cell_type": "code",
      "source": [
        "print(array)"
      ],
      "metadata": {
        "colab": {
          "base_uri": "https://localhost:8080/"
        },
        "id": "DsEN3j2Mv-Se",
        "outputId": "404a616d-46e0-4f01-cac8-930f74cd378c"
      },
      "execution_count": 14,
      "outputs": [
        {
          "output_type": "stream",
          "name": "stdout",
          "text": [
            "[[[ 1  2  3  4]\n",
            "  [ 5  6  7  8]\n",
            "  [ 9 10 11 12]]\n",
            "\n",
            " [[13 14 15 16]\n",
            "  [17 18 19 20]\n",
            "  [21 22 23 24]]]\n"
          ]
        }
      ]
    },
    {
      "cell_type": "code",
      "source": [
        "print(array[0])"
      ],
      "metadata": {
        "colab": {
          "base_uri": "https://localhost:8080/"
        },
        "id": "0PVXDui6xWJl",
        "outputId": "3e77ccb3-2ac6-4344-8ecf-d9eee2762d41"
      },
      "execution_count": 15,
      "outputs": [
        {
          "output_type": "stream",
          "name": "stdout",
          "text": [
            "[[ 1  2  3  4]\n",
            " [ 5  6  7  8]\n",
            " [ 9 10 11 12]]\n"
          ]
        }
      ]
    },
    {
      "cell_type": "code",
      "source": [
        "print(array[0][1])"
      ],
      "metadata": {
        "colab": {
          "base_uri": "https://localhost:8080/"
        },
        "id": "EB82BJ4CxfH1",
        "outputId": "1d73671f-0b1c-4e48-defa-0433b116dadd"
      },
      "execution_count": 16,
      "outputs": [
        {
          "output_type": "stream",
          "name": "stdout",
          "text": [
            "[5 6 7 8]\n"
          ]
        }
      ]
    },
    {
      "cell_type": "code",
      "source": [
        "print(array[0, 1])"
      ],
      "metadata": {
        "colab": {
          "base_uri": "https://localhost:8080/"
        },
        "id": "_3UFM3enxvmU",
        "outputId": "3c925083-bb21-4e45-aa6d-87e634b52cf8"
      },
      "execution_count": 17,
      "outputs": [
        {
          "output_type": "stream",
          "name": "stdout",
          "text": [
            "[5 6 7 8]\n"
          ]
        }
      ]
    },
    {
      "cell_type": "code",
      "source": [
        "print(array[0][1][2])"
      ],
      "metadata": {
        "colab": {
          "base_uri": "https://localhost:8080/"
        },
        "id": "qgGTN3Elx5Z2",
        "outputId": "a23ef58f-4d2c-4db6-d2c7-98100faf33d8"
      },
      "execution_count": 18,
      "outputs": [
        {
          "output_type": "stream",
          "name": "stdout",
          "text": [
            "7\n"
          ]
        }
      ]
    },
    {
      "cell_type": "code",
      "source": [
        "print(array[0, 1, 2])"
      ],
      "metadata": {
        "colab": {
          "base_uri": "https://localhost:8080/"
        },
        "id": "ZG_9rwYqx75k",
        "outputId": "e453505a-a484-4b10-9753-e9794d67eb17"
      },
      "execution_count": 19,
      "outputs": [
        {
          "output_type": "stream",
          "name": "stdout",
          "text": [
            "7\n"
          ]
        }
      ]
    },
    {
      "cell_type": "markdown",
      "source": [
        "# np.ndarray slicing"
      ],
      "metadata": {
        "id": "0_ruTwlcDDjj"
      }
    },
    {
      "cell_type": "markdown",
      "source": [
        "## 1차원 배열 slicing"
      ],
      "metadata": {
        "id": "38_UGQ82DV3y"
      }
    },
    {
      "cell_type": "code",
      "source": [
        "np.random.seed(1)\n",
        "array = np.random.rand(10)\n",
        "print(array)"
      ],
      "metadata": {
        "colab": {
          "base_uri": "https://localhost:8080/"
        },
        "id": "tQPu9xRCDP2U",
        "outputId": "9d090f8f-21c5-4732-d7a6-36215449c1fd"
      },
      "execution_count": 20,
      "outputs": [
        {
          "output_type": "stream",
          "name": "stdout",
          "text": [
            "[4.17022005e-01 7.20324493e-01 1.14374817e-04 3.02332573e-01\n",
            " 1.46755891e-01 9.23385948e-02 1.86260211e-01 3.45560727e-01\n",
            " 3.96767474e-01 5.38816734e-01]\n"
          ]
        }
      ]
    },
    {
      "cell_type": "code",
      "source": [
        "# [1:5) 범위의 원소들로 이루어진 ndarray\n",
        "print(array[1:5])"
      ],
      "metadata": {
        "colab": {
          "base_uri": "https://localhost:8080/"
        },
        "id": "Vv_0xpATDfAz",
        "outputId": "fdcc3b9d-f819-4d33-ba47-1c6c2bd30d61"
      },
      "execution_count": 22,
      "outputs": [
        {
          "output_type": "stream",
          "name": "stdout",
          "text": [
            "[7.20324493e-01 1.14374817e-04 3.02332573e-01 1.46755891e-01]\n"
          ]
        }
      ]
    },
    {
      "cell_type": "code",
      "source": [
        "# 배열에서 첫 3개의 원소로 이루어진 ndarray\n",
        "print(array[:3])  # array[0:3] - 시작 인덱스 0은 생략 가능"
      ],
      "metadata": {
        "colab": {
          "base_uri": "https://localhost:8080/"
        },
        "id": "xusMHoBxDzvT",
        "outputId": "740ae5d8-478e-4fe5-c758-43256fb4b2de"
      },
      "execution_count": 23,
      "outputs": [
        {
          "output_type": "stream",
          "name": "stdout",
          "text": [
            "[4.17022005e-01 7.20324493e-01 1.14374817e-04]\n"
          ]
        }
      ]
    },
    {
      "cell_type": "code",
      "source": [
        "# 배열에서 마지막 3개의 원소로 이루어진 ndarray\n",
        "print(array[-3:])  # slicing에서 end index를 생략하면 끝까지를 선택"
      ],
      "metadata": {
        "colab": {
          "base_uri": "https://localhost:8080/"
        },
        "id": "xvgpZMggEYBt",
        "outputId": "2f290d6f-73cc-4946-b538-4208644acc25"
      },
      "execution_count": 24,
      "outputs": [
        {
          "output_type": "stream",
          "name": "stdout",
          "text": [
            "[0.34556073 0.39676747 0.53881673]\n"
          ]
        }
      ]
    },
    {
      "cell_type": "code",
      "source": [
        "print(array[:])  # slicing에서 start와 end index 모두를 생략하면 처음부터 끝까지 선택"
      ],
      "metadata": {
        "colab": {
          "base_uri": "https://localhost:8080/"
        },
        "id": "zUL1GuZbFEZK",
        "outputId": "96c1248b-2735-4521-f410-9fae31e0d2b5"
      },
      "execution_count": 25,
      "outputs": [
        {
          "output_type": "stream",
          "name": "stdout",
          "text": [
            "[4.17022005e-01 7.20324493e-01 1.14374817e-04 3.02332573e-01\n",
            " 1.46755891e-01 9.23385948e-02 1.86260211e-01 3.45560727e-01\n",
            " 3.96767474e-01 5.38816734e-01]\n"
          ]
        }
      ]
    },
    {
      "cell_type": "markdown",
      "source": [
        "## 2차원 배열 slicing"
      ],
      "metadata": {
        "id": "Vn27PHhFE7gK"
      }
    },
    {
      "cell_type": "code",
      "source": [
        "array = np.arange(1, 21).reshape((4, 5))\n",
        "print(array)"
      ],
      "metadata": {
        "colab": {
          "base_uri": "https://localhost:8080/"
        },
        "id": "UVW5Dco1EsAK",
        "outputId": "284d4dc7-592b-46e9-e81a-86d0e33d9eb2"
      },
      "execution_count": 26,
      "outputs": [
        {
          "output_type": "stream",
          "name": "stdout",
          "text": [
            "[[ 1  2  3  4  5]\n",
            " [ 6  7  8  9 10]\n",
            " [11 12 13 14 15]\n",
            " [16 17 18 19 20]]\n"
          ]
        }
      ]
    },
    {
      "cell_type": "code",
      "source": [
        "# 행은 [1, 3), 열은 [1, 4) 범위로 slicing\n",
        "print(array[1:3, 1:4])"
      ],
      "metadata": {
        "colab": {
          "base_uri": "https://localhost:8080/"
        },
        "id": "xhhVOXsYFgVi",
        "outputId": "535f68ee-9ac7-4b96-f12c-0fc9db71dffb"
      },
      "execution_count": 27,
      "outputs": [
        {
          "output_type": "stream",
          "name": "stdout",
          "text": [
            "[[ 7  8  9]\n",
            " [12 13 14]]\n"
          ]
        }
      ]
    },
    {
      "cell_type": "code",
      "source": [
        "# 첫 2개 열을 선택. 행은 모두 선택, 열은 [0, 2) 범위로 slicing.\n",
        "print(array[:, :2])"
      ],
      "metadata": {
        "colab": {
          "base_uri": "https://localhost:8080/"
        },
        "id": "TpLYy6C1GFAV",
        "outputId": "3ebf2163-7dd6-482e-8846-f770cfc8c5d2"
      },
      "execution_count": 28,
      "outputs": [
        {
          "output_type": "stream",
          "name": "stdout",
          "text": [
            "[[ 1  2]\n",
            " [ 6  7]\n",
            " [11 12]\n",
            " [16 17]]\n"
          ]
        }
      ]
    },
    {
      "cell_type": "code",
      "source": [
        "# 첫 2개 행을 선택. 행은 [0,2) 범위로 slicing, 열은 모두 선택.\n",
        "print(array[:2, :])"
      ],
      "metadata": {
        "colab": {
          "base_uri": "https://localhost:8080/"
        },
        "id": "Lw6psJSdGsUE",
        "outputId": "4d80b5d1-25e4-4608-ba5e-ca1373b46dd1"
      },
      "execution_count": 29,
      "outputs": [
        {
          "output_type": "stream",
          "name": "stdout",
          "text": [
            "[[ 1  2  3  4  5]\n",
            " [ 6  7  8  9 10]]\n"
          ]
        }
      ]
    },
    {
      "cell_type": "markdown",
      "source": [
        "## 3차원 배열 slicing"
      ],
      "metadata": {
        "id": "vKlPuddAH2NS"
      }
    },
    {
      "cell_type": "code",
      "source": [
        "array = np.arange(1, 61).reshape((3, 4, 5))\n",
        "print(array)"
      ],
      "metadata": {
        "colab": {
          "base_uri": "https://localhost:8080/"
        },
        "id": "Fv-BUW8xH5eS",
        "outputId": "bb182a13-2b7f-43c9-8048-9db03836de1d"
      },
      "execution_count": 30,
      "outputs": [
        {
          "output_type": "stream",
          "name": "stdout",
          "text": [
            "[[[ 1  2  3  4  5]\n",
            "  [ 6  7  8  9 10]\n",
            "  [11 12 13 14 15]\n",
            "  [16 17 18 19 20]]\n",
            "\n",
            " [[21 22 23 24 25]\n",
            "  [26 27 28 29 30]\n",
            "  [31 32 33 34 35]\n",
            "  [36 37 38 39 40]]\n",
            "\n",
            " [[41 42 43 44 45]\n",
            "  [46 47 48 49 50]\n",
            "  [51 52 53 54 55]\n",
            "  [56 57 58 59 60]]]\n"
          ]
        }
      ]
    },
    {
      "cell_type": "code",
      "source": [
        "print(array[:2, :, :])"
      ],
      "metadata": {
        "colab": {
          "base_uri": "https://localhost:8080/"
        },
        "id": "5EzRgb-mIIFz",
        "outputId": "2ca02490-2f6a-45c1-ffb9-994a7238663d"
      },
      "execution_count": 31,
      "outputs": [
        {
          "output_type": "stream",
          "name": "stdout",
          "text": [
            "[[[ 1  2  3  4  5]\n",
            "  [ 6  7  8  9 10]\n",
            "  [11 12 13 14 15]\n",
            "  [16 17 18 19 20]]\n",
            "\n",
            " [[21 22 23 24 25]\n",
            "  [26 27 28 29 30]\n",
            "  [31 32 33 34 35]\n",
            "  [36 37 38 39 40]]]\n"
          ]
        }
      ]
    },
    {
      "cell_type": "markdown",
      "source": [
        "slicing vs indexing"
      ],
      "metadata": {
        "id": "0ew42fO5I7HB"
      }
    },
    {
      "cell_type": "code",
      "source": [
        "print(array[:1, :, :])  #> slicing의 결과: 3-d 배열"
      ],
      "metadata": {
        "colab": {
          "base_uri": "https://localhost:8080/"
        },
        "id": "NXSGGfkmI50j",
        "outputId": "01b33557-f3b7-4367-dfff-d400ff4b8e95"
      },
      "execution_count": 32,
      "outputs": [
        {
          "output_type": "stream",
          "name": "stdout",
          "text": [
            "[[[ 1  2  3  4  5]\n",
            "  [ 6  7  8  9 10]\n",
            "  [11 12 13 14 15]\n",
            "  [16 17 18 19 20]]]\n"
          ]
        }
      ]
    },
    {
      "cell_type": "code",
      "source": [
        "print(array[0])  #> indexing의 결과: 2-d 배열"
      ],
      "metadata": {
        "colab": {
          "base_uri": "https://localhost:8080/"
        },
        "id": "lPVsPn4BJKhq",
        "outputId": "5b3b304b-c7eb-4b6e-c643-fce26e02eb20"
      },
      "execution_count": 33,
      "outputs": [
        {
          "output_type": "stream",
          "name": "stdout",
          "text": [
            "[[ 1  2  3  4  5]\n",
            " [ 6  7  8  9 10]\n",
            " [11 12 13 14 15]\n",
            " [16 17 18 19 20]]\n"
          ]
        }
      ]
    },
    {
      "cell_type": "code",
      "source": [
        "print(array[:, :, :2])  #> (3, 4, 2) shape의 3-d 배열"
      ],
      "metadata": {
        "colab": {
          "base_uri": "https://localhost:8080/"
        },
        "id": "V8bPa38MJVjp",
        "outputId": "fc8020e0-e846-4095-d1e3-3e943784dda9"
      },
      "execution_count": 34,
      "outputs": [
        {
          "output_type": "stream",
          "name": "stdout",
          "text": [
            "[[[ 1  2]\n",
            "  [ 6  7]\n",
            "  [11 12]\n",
            "  [16 17]]\n",
            "\n",
            " [[21 22]\n",
            "  [26 27]\n",
            "  [31 32]\n",
            "  [36 37]]\n",
            "\n",
            " [[41 42]\n",
            "  [46 47]\n",
            "  [51 52]\n",
            "  [56 57]]]\n"
          ]
        }
      ]
    },
    {
      "cell_type": "markdown",
      "source": [
        "# np.ndarray 모양(shape) 변형"
      ],
      "metadata": {
        "id": "jubwpuvfLilq"
      }
    },
    {
      "cell_type": "markdown",
      "source": [
        "## `np.ndarray.reshape(shape)`"
      ],
      "metadata": {
        "id": "0tflnEsuMAjM"
      }
    },
    {
      "cell_type": "code",
      "source": [
        "arr_1d = np.arange(1, 13)\n",
        "print(arr_1d)  #> 1-d 배열"
      ],
      "metadata": {
        "colab": {
          "base_uri": "https://localhost:8080/"
        },
        "id": "LvXsQy47MAKR",
        "outputId": "758c6147-2bdb-493c-feea-8fac48769b86"
      },
      "execution_count": 35,
      "outputs": [
        {
          "output_type": "stream",
          "name": "stdout",
          "text": [
            "[ 1  2  3  4  5  6  7  8  9 10 11 12]\n"
          ]
        }
      ]
    },
    {
      "cell_type": "code",
      "source": [
        "# 1차원 배열을 (3, 4) shape을 갖는 2-d 배열로 변형\n",
        "arr_2d = arr_1d.reshape((3, 4))\n",
        "print(arr_2d)"
      ],
      "metadata": {
        "colab": {
          "base_uri": "https://localhost:8080/"
        },
        "id": "8nQ6ouWPMRu6",
        "outputId": "1b65fcd2-8920-40d0-f774-ec1920401116"
      },
      "execution_count": 36,
      "outputs": [
        {
          "output_type": "stream",
          "name": "stdout",
          "text": [
            "[[ 1  2  3  4]\n",
            " [ 5  6  7  8]\n",
            " [ 9 10 11 12]]\n"
          ]
        }
      ]
    },
    {
      "cell_type": "code",
      "source": [
        "# 1-d 배열을 2-d 배열로 변환할 때 행의 개수만 결정되면 열의 개수는 자동으로 결정됨.\n",
        "print(arr_1d.reshape((3, -1)))  # 자동으로 계산이 되는 1개 차원의 원소 개수는 -1로 대체할 수 있음"
      ],
      "metadata": {
        "colab": {
          "base_uri": "https://localhost:8080/"
        },
        "id": "f9NyQvmHMtvy",
        "outputId": "f6783f25-b86b-46c1-99f1-181d7b0eb6e4"
      },
      "execution_count": 37,
      "outputs": [
        {
          "output_type": "stream",
          "name": "stdout",
          "text": [
            "[[ 1  2  3  4]\n",
            " [ 5  6  7  8]\n",
            " [ 9 10 11 12]]\n"
          ]
        }
      ]
    },
    {
      "cell_type": "code",
      "source": [
        "# 1-d 배열을 2-d 배열로 변환할 때 열의 개수만 결정되면 행의 개수는 자동으로 결정됨.\n",
        "print(arr_1d.reshape((-1, 4)))"
      ],
      "metadata": {
        "colab": {
          "base_uri": "https://localhost:8080/"
        },
        "id": "g4Iqo3gIN5Ba",
        "outputId": "e1c4acca-9ab6-410a-8617-931545afd7f9"
      },
      "execution_count": 38,
      "outputs": [
        {
          "output_type": "stream",
          "name": "stdout",
          "text": [
            "[[ 1  2  3  4]\n",
            " [ 5  6  7  8]\n",
            " [ 9 10 11 12]]\n"
          ]
        }
      ]
    },
    {
      "cell_type": "code",
      "source": [
        "# 2-d ndarray -> 1-d ndarray\n",
        "result = arr_2d.reshape((3*4,))  # shape을 정수 1개인 tuple로 전달.\n",
        "print(result)"
      ],
      "metadata": {
        "colab": {
          "base_uri": "https://localhost:8080/"
        },
        "id": "EzqLLY3LOUz5",
        "outputId": "d1ac7a19-0a32-438d-fa13-b2b94d2f99b0"
      },
      "execution_count": 39,
      "outputs": [
        {
          "output_type": "stream",
          "name": "stdout",
          "text": [
            "[ 1  2  3  4  5  6  7  8  9 10 11 12]\n"
          ]
        }
      ]
    },
    {
      "cell_type": "code",
      "source": [
        "result = arr_2d.reshape(3*4)  # shape을 정수로 전달.\n",
        "print(result)"
      ],
      "metadata": {
        "colab": {
          "base_uri": "https://localhost:8080/"
        },
        "id": "-G1FIR1jOunC",
        "outputId": "ba4c173e-86a4-43a7-a3df-1c703a3c400b"
      },
      "execution_count": 40,
      "outputs": [
        {
          "output_type": "stream",
          "name": "stdout",
          "text": [
            "[ 1  2  3  4  5  6  7  8  9 10 11 12]\n"
          ]
        }
      ]
    },
    {
      "cell_type": "code",
      "source": [
        "result = arr_2d.reshape(-1)  # (n, m) shape의 2d 배열은 n*m개 원소를 갖는 1차원 배열이 될 수 밖에 없음.\n",
        "print(result)"
      ],
      "metadata": {
        "colab": {
          "base_uri": "https://localhost:8080/"
        },
        "id": "pIuRYYduO3lp",
        "outputId": "dee2eaa8-e6e4-4cb0-e0a7-e896edbbaea0"
      },
      "execution_count": 41,
      "outputs": [
        {
          "output_type": "stream",
          "name": "stdout",
          "text": [
            "[ 1  2  3  4  5  6  7  8  9 10 11 12]\n"
          ]
        }
      ]
    },
    {
      "cell_type": "markdown",
      "source": [
        "## 2차원 이상의 배열을 1차원 배열로 변환\n",
        "\n",
        "* `np.ndarray.ravel()`: 1차원 배열로 변환된 __view__를 리턴.\n",
        "* `np.ndarray.flatten()`: 1차원 배열로 변환된 __새로운 배열__을 리턴.\n"
      ],
      "metadata": {
        "id": "Ympw7OvpT5CK"
      }
    },
    {
      "cell_type": "code",
      "source": [
        "print(arr_2d)"
      ],
      "metadata": {
        "colab": {
          "base_uri": "https://localhost:8080/"
        },
        "id": "xreQQLCpTwkS",
        "outputId": "70105cff-01f0-4f67-ee7e-0b62d8b51fd2"
      },
      "execution_count": 42,
      "outputs": [
        {
          "output_type": "stream",
          "name": "stdout",
          "text": [
            "[[ 1  2  3  4]\n",
            " [ 5  6  7  8]\n",
            " [ 9 10 11 12]]\n"
          ]
        }
      ]
    },
    {
      "cell_type": "code",
      "source": [
        "raveled = arr_2d.ravel()\n",
        "print(raveled)"
      ],
      "metadata": {
        "colab": {
          "base_uri": "https://localhost:8080/"
        },
        "id": "UDLOb3CbUlJS",
        "outputId": "da64014c-ae62-4782-e119-6e156ddcd3cc"
      },
      "execution_count": 43,
      "outputs": [
        {
          "output_type": "stream",
          "name": "stdout",
          "text": [
            "[ 1  2  3  4  5  6  7  8  9 10 11 12]\n"
          ]
        }
      ]
    },
    {
      "cell_type": "code",
      "source": [
        "flattened = arr_2d.flatten()\n",
        "print(flattened)"
      ],
      "metadata": {
        "colab": {
          "base_uri": "https://localhost:8080/"
        },
        "id": "vDDxfsDlUsk6",
        "outputId": "b953f92f-b673-4cba-8513-a61887a80f59"
      },
      "execution_count": 44,
      "outputs": [
        {
          "output_type": "stream",
          "name": "stdout",
          "text": [
            "[ 1  2  3  4  5  6  7  8  9 10 11 12]\n"
          ]
        }
      ]
    },
    {
      "cell_type": "code",
      "source": [
        "# flatten() 메서드의 리턴 값은 원본 배열과 별개의 1차원 배열!\n",
        "flattened[0] = 100  # 1차원 배열의 인덱스 0번 위치의 값을 변경.\n",
        "print(flattened)\n",
        "print(arr_2d)"
      ],
      "metadata": {
        "colab": {
          "base_uri": "https://localhost:8080/"
        },
        "id": "_E7AQgC6U6JZ",
        "outputId": "f89e1c47-0eb5-483b-984b-439ed966ba31"
      },
      "execution_count": 45,
      "outputs": [
        {
          "output_type": "stream",
          "name": "stdout",
          "text": [
            "[100   2   3   4   5   6   7   8   9  10  11  12]\n",
            "[[ 1  2  3  4]\n",
            " [ 5  6  7  8]\n",
            " [ 9 10 11 12]]\n"
          ]
        }
      ]
    },
    {
      "cell_type": "code",
      "source": [
        "# ravel() 메서드의 리턴값은 원본 배열의 모양(shape)을 변경한 view일 뿐!\n",
        "raveled[0] = 100  #> view의 원소 값을 변경.\n",
        "print(raveled)\n",
        "print(arr_2d)  #> 원본 배열의 원소 값이 변경."
      ],
      "metadata": {
        "colab": {
          "base_uri": "https://localhost:8080/"
        },
        "id": "qnd_IjAyVupZ",
        "outputId": "bf493f22-5d41-4d12-819d-8416ad293e6b"
      },
      "execution_count": 46,
      "outputs": [
        {
          "output_type": "stream",
          "name": "stdout",
          "text": [
            "[100   2   3   4   5   6   7   8   9  10  11  12]\n",
            "[[100   2   3   4]\n",
            " [  5   6   7   8]\n",
            " [  9  10  11  12]]\n"
          ]
        }
      ]
    },
    {
      "cell_type": "markdown",
      "source": [
        "## np.newaxis 속성을 사용한 차원 늘리기"
      ],
      "metadata": {
        "id": "NMo74e8BW7wx"
      }
    },
    {
      "cell_type": "code",
      "source": [
        "array = np.arange(1, 6)\n",
        "print(array)  # (5,) shape의 1차원 배열"
      ],
      "metadata": {
        "colab": {
          "base_uri": "https://localhost:8080/"
        },
        "id": "oIgz8Zc5WJeD",
        "outputId": "25025ed0-aac6-47b9-9293-1554e1b377bd"
      },
      "execution_count": 47,
      "outputs": [
        {
          "output_type": "stream",
          "name": "stdout",
          "text": [
            "[1 2 3 4 5]\n"
          ]
        }
      ]
    },
    {
      "cell_type": "code",
      "source": [
        "result = array.reshape((5, 1))\n",
        "print(result)  #> (5, 1) shape의 2차원 배열"
      ],
      "metadata": {
        "colab": {
          "base_uri": "https://localhost:8080/"
        },
        "id": "AvsatFp-XSrB",
        "outputId": "a6544443-deac-49cc-fe3e-fc51cfe392c9"
      },
      "execution_count": 48,
      "outputs": [
        {
          "output_type": "stream",
          "name": "stdout",
          "text": [
            "[[1]\n",
            " [2]\n",
            " [3]\n",
            " [4]\n",
            " [5]]\n"
          ]
        }
      ]
    },
    {
      "cell_type": "code",
      "source": [
        "result = array[:, np.newaxis]\n",
        "print(result)"
      ],
      "metadata": {
        "colab": {
          "base_uri": "https://localhost:8080/"
        },
        "id": "BSqCx-PxXpPx",
        "outputId": "bfb6ad31-2f69-466d-f4ef-c6eb4fa949fa"
      },
      "execution_count": 49,
      "outputs": [
        {
          "output_type": "stream",
          "name": "stdout",
          "text": [
            "[[1]\n",
            " [2]\n",
            " [3]\n",
            " [4]\n",
            " [5]]\n"
          ]
        }
      ]
    },
    {
      "cell_type": "code",
      "source": [
        "result = array.reshape((1, 5))\n",
        "print(result)  #> (1, 5) shape의 2차원 배열"
      ],
      "metadata": {
        "colab": {
          "base_uri": "https://localhost:8080/"
        },
        "id": "QWGisM9GX8H6",
        "outputId": "269de3ae-8927-4c8c-d2e9-38c384d4e418"
      },
      "execution_count": 50,
      "outputs": [
        {
          "output_type": "stream",
          "name": "stdout",
          "text": [
            "[[1 2 3 4 5]]\n"
          ]
        }
      ]
    },
    {
      "cell_type": "code",
      "source": [
        "result = array[np.newaxis, :]\n",
        "print(result)"
      ],
      "metadata": {
        "colab": {
          "base_uri": "https://localhost:8080/"
        },
        "id": "L_qm3st1YpVr",
        "outputId": "f65288a7-03e7-4026-9f22-daab8ba6cd77"
      },
      "execution_count": 51,
      "outputs": [
        {
          "output_type": "stream",
          "name": "stdout",
          "text": [
            "[[1 2 3 4 5]]\n"
          ]
        }
      ]
    },
    {
      "cell_type": "markdown",
      "source": [
        "# concatenate\n",
        "\n",
        "* `np.concatenate([arrary1, array2, ...], axis=0)`: 행(axis=0) 또는 열(axis=1) 방향으로 배열 이어붙이기\n",
        "* `np.r_[array1, array2]`: 행(row) 이어 붙이기\n",
        "* `np.c_[array1, array2]`: 열(column) 이어 붙이기\n"
      ],
      "metadata": {
        "id": "SHqiqIWNZFfT"
      }
    },
    {
      "cell_type": "code",
      "source": [
        "a1 = np.arange(1, 7).reshape((2, 3))\n",
        "print(a1)"
      ],
      "metadata": {
        "colab": {
          "base_uri": "https://localhost:8080/"
        },
        "id": "q-hdngYxY0vI",
        "outputId": "c15ba023-46ff-4a04-8f64-8daf41ba40e9"
      },
      "execution_count": 53,
      "outputs": [
        {
          "output_type": "stream",
          "name": "stdout",
          "text": [
            "[[1 2 3]\n",
            " [4 5 6]]\n"
          ]
        }
      ]
    },
    {
      "cell_type": "code",
      "source": [
        "a2 = np.array([[7, 8, 9]])\n",
        "print(a2)  #> (1, 3) shape의 2차원 배열"
      ],
      "metadata": {
        "colab": {
          "base_uri": "https://localhost:8080/"
        },
        "id": "18QImE-AamNp",
        "outputId": "6d4b1f08-c19f-432e-bb23-503781ab8fa8"
      },
      "execution_count": 54,
      "outputs": [
        {
          "output_type": "stream",
          "name": "stdout",
          "text": [
            "[[7 8 9]]\n"
          ]
        }
      ]
    },
    {
      "cell_type": "code",
      "source": [
        "np.concatenate([a1, a2])  # axis=0은 생략 가능. default argument."
      ],
      "metadata": {
        "colab": {
          "base_uri": "https://localhost:8080/"
        },
        "id": "287iNuTia0xA",
        "outputId": "be16d31b-f320-47a8-f03a-a1e95bbc96b7"
      },
      "execution_count": 55,
      "outputs": [
        {
          "output_type": "execute_result",
          "data": {
            "text/plain": [
              "array([[1, 2, 3],\n",
              "       [4, 5, 6],\n",
              "       [7, 8, 9]])"
            ]
          },
          "metadata": {},
          "execution_count": 55
        }
      ]
    },
    {
      "cell_type": "code",
      "source": [
        "np.r_[a1, a2]"
      ],
      "metadata": {
        "colab": {
          "base_uri": "https://localhost:8080/"
        },
        "id": "zw3vHUqobREi",
        "outputId": "6f9ae2de-d3bb-48b1-eab3-40ab58bd2532"
      },
      "execution_count": 56,
      "outputs": [
        {
          "output_type": "execute_result",
          "data": {
            "text/plain": [
              "array([[1, 2, 3],\n",
              "       [4, 5, 6],\n",
              "       [7, 8, 9]])"
            ]
          },
          "metadata": {},
          "execution_count": 56
        }
      ]
    },
    {
      "cell_type": "code",
      "source": [
        "a3 = np.array([[10], \n",
        "               [11]])\n",
        "print(a3)"
      ],
      "metadata": {
        "colab": {
          "base_uri": "https://localhost:8080/"
        },
        "id": "4wzHJBQ1bdwB",
        "outputId": "fd8d8d07-bab4-45b7-d549-340aec52c95a"
      },
      "execution_count": 57,
      "outputs": [
        {
          "output_type": "stream",
          "name": "stdout",
          "text": [
            "[[10]\n",
            " [11]]\n"
          ]
        }
      ]
    },
    {
      "cell_type": "code",
      "source": [
        "np.concatenate([a1, a3], axis=1)"
      ],
      "metadata": {
        "colab": {
          "base_uri": "https://localhost:8080/"
        },
        "id": "1hrWQ70TbxP5",
        "outputId": "9e1c582b-f392-4b4b-a7da-b6d672ec99bb"
      },
      "execution_count": 58,
      "outputs": [
        {
          "output_type": "execute_result",
          "data": {
            "text/plain": [
              "array([[ 1,  2,  3, 10],\n",
              "       [ 4,  5,  6, 11]])"
            ]
          },
          "metadata": {},
          "execution_count": 58
        }
      ]
    },
    {
      "cell_type": "code",
      "source": [
        "np.c_[a1, a3]"
      ],
      "metadata": {
        "colab": {
          "base_uri": "https://localhost:8080/"
        },
        "id": "UHP9hq9ob3L4",
        "outputId": "f21ea28c-87e3-4ef0-ce22-fa85458e7622"
      },
      "execution_count": 59,
      "outputs": [
        {
          "output_type": "execute_result",
          "data": {
            "text/plain": [
              "array([[ 1,  2,  3, 10],\n",
              "       [ 4,  5,  6, 11]])"
            ]
          },
          "metadata": {},
          "execution_count": 59
        }
      ]
    },
    {
      "cell_type": "markdown",
      "source": [
        "# Broadcasting"
      ],
      "metadata": {
        "id": "PtI2VRMBccAJ"
      }
    },
    {
      "cell_type": "code",
      "source": [
        ""
      ],
      "metadata": {
        "id": "gl1rs01Hb92I"
      },
      "execution_count": null,
      "outputs": []
    }
  ]
}