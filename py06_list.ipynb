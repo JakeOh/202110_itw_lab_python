{
  "nbformat": 4,
  "nbformat_minor": 0,
  "metadata": {
    "colab": {
      "name": "py06_list.ipynb",
      "provenance": [],
      "collapsed_sections": [],
      "authorship_tag": "ABX9TyOu3RcopWZ0hNYRflkFmvMX",
      "include_colab_link": true
    },
    "kernelspec": {
      "name": "python3",
      "display_name": "Python 3"
    },
    "language_info": {
      "name": "python"
    }
  },
  "cells": [
    {
      "cell_type": "markdown",
      "metadata": {
        "id": "view-in-github",
        "colab_type": "text"
      },
      "source": [
        "<a href=\"https://colab.research.google.com/github/JakeOh/202110_itw_lab_python/blob/main/py06_list.ipynb\" target=\"_parent\"><img src=\"https://colab.research.google.com/assets/colab-badge.svg\" alt=\"Open In Colab\"/></a>"
      ]
    },
    {
      "cell_type": "markdown",
      "source": [
        "# List(리스트)"
      ],
      "metadata": {
        "id": "0dFku9cgpWI_"
      }
    },
    {
      "cell_type": "markdown",
      "source": [
        "list: 여러 개의 값들을 하나의 변수에 저장하기 위한 데이터 타입.\n",
        "\n",
        "* element(원소, 요소): 리스트에 저장되는 각각의 값.\n",
        "* index(인덱스): 리스트에 원소들이 저장된 위치(번호).\n",
        "    * 리스트의 인덱스는 **0**부터 시작.\n",
        "    * 리스트에서 마지막 원소의 인덱스는 **(원소의 개수 - 1)**\n",
        "* 리스트는 원소들을 추가/삭제/변경할 수 있음.\n",
        "    * tuple과 다른 점!\n"
      ],
      "metadata": {
        "id": "100NwpKVpcgr"
      }
    },
    {
      "cell_type": "code",
      "execution_count": 209,
      "metadata": {
        "id": "iEdRnt4fpJiy"
      },
      "outputs": [],
      "source": [
        "# 숫자들을 저장하는 리스트\n",
        "numbers = [1, 20, 3, 40, 7]"
      ]
    },
    {
      "cell_type": "code",
      "source": [
        "print(numbers)"
      ],
      "metadata": {
        "colab": {
          "base_uri": "https://localhost:8080/"
        },
        "id": "bnU90insrASs",
        "outputId": "969591d4-b481-4b75-a4fc-917625524a7a"
      },
      "execution_count": 210,
      "outputs": [
        {
          "output_type": "stream",
          "name": "stdout",
          "text": [
            "[1, 20, 3, 40, 7]\n"
          ]
        }
      ]
    },
    {
      "cell_type": "code",
      "source": [
        "numbers"
      ],
      "metadata": {
        "colab": {
          "base_uri": "https://localhost:8080/"
        },
        "id": "pYbpj-bvrCFj",
        "outputId": "274cb73c-2791-4ca8-a92d-3543562f36f0"
      },
      "execution_count": 211,
      "outputs": [
        {
          "output_type": "execute_result",
          "data": {
            "text/plain": [
              "[1, 20, 3, 40, 7]"
            ]
          },
          "metadata": {},
          "execution_count": 211
        }
      ]
    },
    {
      "cell_type": "markdown",
      "source": [
        "ipynb의 코드 셀에서 가장 마지막 줄의 문장이 식(expression: 변수, 값, 함수 호출 등)이면 식을 평가한 결과를 자동으로 출력해줌."
      ],
      "metadata": {
        "id": "0r84VomlroRb"
      }
    },
    {
      "cell_type": "code",
      "source": [
        "type(numbers)"
      ],
      "metadata": {
        "colab": {
          "base_uri": "https://localhost:8080/"
        },
        "id": "8hZ8ApYJrDgK",
        "outputId": "2bd94e78-4eb1-49f2-aae2-5bd39eaaf3ac"
      },
      "execution_count": 212,
      "outputs": [
        {
          "output_type": "execute_result",
          "data": {
            "text/plain": [
              "list"
            ]
          },
          "metadata": {},
          "execution_count": 212
        }
      ]
    },
    {
      "cell_type": "markdown",
      "source": [
        "# Indexing\n",
        "\n",
        "인덱스를 사용해서 리스트의 원소를 사용하는 방법."
      ],
      "metadata": {
        "id": "uW2wECKdsAK1"
      }
    },
    {
      "cell_type": "code",
      "source": [
        "numbers"
      ],
      "metadata": {
        "colab": {
          "base_uri": "https://localhost:8080/"
        },
        "id": "cXThiH1Sr0lD",
        "outputId": "1d01b0c8-cbe2-4dba-c2bd-a5429dc52599"
      },
      "execution_count": 213,
      "outputs": [
        {
          "output_type": "execute_result",
          "data": {
            "text/plain": [
              "[1, 20, 3, 40, 7]"
            ]
          },
          "metadata": {},
          "execution_count": 213
        }
      ]
    },
    {
      "cell_type": "code",
      "source": [
        "numbers[0]  # list의 첫번째 원소"
      ],
      "metadata": {
        "colab": {
          "base_uri": "https://localhost:8080/"
        },
        "id": "7MWrzRzcsNai",
        "outputId": "8682ba56-108a-41b9-ed7f-0fc2c23563d4"
      },
      "execution_count": 214,
      "outputs": [
        {
          "output_type": "execute_result",
          "data": {
            "text/plain": [
              "1"
            ]
          },
          "metadata": {},
          "execution_count": 214
        }
      ]
    },
    {
      "cell_type": "code",
      "source": [
        "numbers[4] # list의 마지막 원소"
      ],
      "metadata": {
        "colab": {
          "base_uri": "https://localhost:8080/"
        },
        "id": "HYs99hCbsmuk",
        "outputId": "61704bbb-0acd-46e7-f098-4a677dea1ce3"
      },
      "execution_count": 215,
      "outputs": [
        {
          "output_type": "execute_result",
          "data": {
            "text/plain": [
              "7"
            ]
          },
          "metadata": {},
          "execution_count": 215
        }
      ]
    },
    {
      "cell_type": "code",
      "source": [
        "numbers[-1]"
      ],
      "metadata": {
        "colab": {
          "base_uri": "https://localhost:8080/"
        },
        "id": "0XBveKJ_sxda",
        "outputId": "b0f4ff2f-5a41-4fb1-f5ac-625c2977366a"
      },
      "execution_count": 216,
      "outputs": [
        {
          "output_type": "execute_result",
          "data": {
            "text/plain": [
              "7"
            ]
          },
          "metadata": {},
          "execution_count": 216
        }
      ]
    },
    {
      "cell_type": "code",
      "source": [
        "numbers[-2] # list에서 끝에서 두번째 원소"
      ],
      "metadata": {
        "colab": {
          "base_uri": "https://localhost:8080/"
        },
        "id": "3vla_0AetWnr",
        "outputId": "c81f3bba-844d-46eb-a216-e91366e72f90"
      },
      "execution_count": 217,
      "outputs": [
        {
          "output_type": "execute_result",
          "data": {
            "text/plain": [
              "40"
            ]
          },
          "metadata": {},
          "execution_count": 217
        }
      ]
    },
    {
      "cell_type": "code",
      "source": [
        "# numbers[5]  #> IndexError"
      ],
      "metadata": {
        "id": "ACLbFwoftoLi"
      },
      "execution_count": 218,
      "outputs": []
    },
    {
      "cell_type": "markdown",
      "source": [
        "# Slicing"
      ],
      "metadata": {
        "id": "y56f531quKAS"
      }
    },
    {
      "cell_type": "code",
      "source": [
        "numbers[1:4]"
      ],
      "metadata": {
        "colab": {
          "base_uri": "https://localhost:8080/"
        },
        "id": "7xY5JC0CuO0r",
        "outputId": "ace13360-96c8-4779-bfeb-9bedb641173f"
      },
      "execution_count": 219,
      "outputs": [
        {
          "output_type": "execute_result",
          "data": {
            "text/plain": [
              "[20, 3, 40]"
            ]
          },
          "metadata": {},
          "execution_count": 219
        }
      ]
    },
    {
      "cell_type": "markdown",
      "source": [
        "```\n",
        "list[start:end]\n",
        "```\n",
        "\n",
        "* start <= index < end 범위의 인덱스 위치의 원소들을 선택.\n",
        "* start가 생략되면 리스트의 첫번째 원소부터 선택. (0 <= index < end 범위의 원소들을 선택.)\n",
        "* end가 생략되면 리스트이 마지막 원소까지 선택. (start <= index 범위의 모든 원소들을 선택.)\n",
        "* slicing의 결과는 새로운 list.\n"
      ],
      "metadata": {
        "id": "fLDK0mqGu9Iu"
      }
    },
    {
      "cell_type": "code",
      "source": [
        "numbers[:3]  # 리스트에서 첫번째 원소부터 순서대로 3개를 선택"
      ],
      "metadata": {
        "colab": {
          "base_uri": "https://localhost:8080/"
        },
        "id": "BaSA8dfBudqC",
        "outputId": "d8e09fc9-b852-4ae5-86a6-9967aac90d0c"
      },
      "execution_count": 220,
      "outputs": [
        {
          "output_type": "execute_result",
          "data": {
            "text/plain": [
              "[1, 20, 3]"
            ]
          },
          "metadata": {},
          "execution_count": 220
        }
      ]
    },
    {
      "cell_type": "code",
      "source": [
        "numbers[2:] # 리스트에서 끝에서 3개의 원소를 선택"
      ],
      "metadata": {
        "colab": {
          "base_uri": "https://localhost:8080/"
        },
        "id": "ccoyKa7ywLFz",
        "outputId": "7bfe2e3b-6200-41a1-c400-52b47dc680fa"
      },
      "execution_count": 221,
      "outputs": [
        {
          "output_type": "execute_result",
          "data": {
            "text/plain": [
              "[3, 40, 7]"
            ]
          },
          "metadata": {},
          "execution_count": 221
        }
      ]
    },
    {
      "cell_type": "code",
      "source": [
        "numbers[-3:]"
      ],
      "metadata": {
        "colab": {
          "base_uri": "https://localhost:8080/"
        },
        "id": "Ml2gZJrVwqfr",
        "outputId": "6fc99694-15d5-4191-cbb5-6e32afd07f26"
      },
      "execution_count": 222,
      "outputs": [
        {
          "output_type": "execute_result",
          "data": {
            "text/plain": [
              "[3, 40, 7]"
            ]
          },
          "metadata": {},
          "execution_count": 222
        }
      ]
    },
    {
      "cell_type": "code",
      "source": [
        "numbers[0]  #> indexing의 결과: 값(int)"
      ],
      "metadata": {
        "colab": {
          "base_uri": "https://localhost:8080/"
        },
        "id": "TUZmRwU_yHoT",
        "outputId": "31206050-713e-493c-d60a-b73cc25e3704"
      },
      "execution_count": 223,
      "outputs": [
        {
          "output_type": "execute_result",
          "data": {
            "text/plain": [
              "1"
            ]
          },
          "metadata": {},
          "execution_count": 223
        }
      ]
    },
    {
      "cell_type": "code",
      "source": [
        "numbers[0:1]  #> slicing의 결과: 원소가 1개인 list"
      ],
      "metadata": {
        "colab": {
          "base_uri": "https://localhost:8080/"
        },
        "id": "nAbmJxKKyKnJ",
        "outputId": "6bad8565-c2e3-4e8c-b9ed-3d24a5378683"
      },
      "execution_count": 224,
      "outputs": [
        {
          "output_type": "execute_result",
          "data": {
            "text/plain": [
              "[1]"
            ]
          },
          "metadata": {},
          "execution_count": 224
        }
      ]
    },
    {
      "cell_type": "markdown",
      "source": [
        "# 문자열(str)\n",
        "\n",
        "문자들의 리스트\n",
        "\n",
        "* 문자열 객체도 리스트 객체처럼 indexing과 slicing을 사용할 수 있다."
      ],
      "metadata": {
        "id": "0RWRxADS18B7"
      }
    },
    {
      "cell_type": "code",
      "source": [
        "message = 'Hello, Python!'  # 14개의 문자들을 원소로 갖는 문자열"
      ],
      "metadata": {
        "id": "1S3w185F2S9S"
      },
      "execution_count": 225,
      "outputs": []
    },
    {
      "cell_type": "code",
      "source": [
        "message[0]  # 문자열에서 첫번째 문자"
      ],
      "metadata": {
        "colab": {
          "base_uri": "https://localhost:8080/",
          "height": 36
        },
        "id": "rYMVENAJ2hm7",
        "outputId": "c1b4ae53-b7f9-46f5-99c5-1fe8f4f7abef"
      },
      "execution_count": 226,
      "outputs": [
        {
          "output_type": "execute_result",
          "data": {
            "application/vnd.google.colaboratory.intrinsic+json": {
              "type": "string"
            },
            "text/plain": [
              "'H'"
            ]
          },
          "metadata": {},
          "execution_count": 226
        }
      ]
    },
    {
      "cell_type": "code",
      "source": [
        "message[13]  # 문자열에서 가장 마지막 문자"
      ],
      "metadata": {
        "colab": {
          "base_uri": "https://localhost:8080/",
          "height": 36
        },
        "id": "wHjjTOo82lPq",
        "outputId": "d638cf9a-b420-4fc8-ca2a-759c616b3c1e"
      },
      "execution_count": 227,
      "outputs": [
        {
          "output_type": "execute_result",
          "data": {
            "application/vnd.google.colaboratory.intrinsic+json": {
              "type": "string"
            },
            "text/plain": [
              "'!'"
            ]
          },
          "metadata": {},
          "execution_count": 227
        }
      ]
    },
    {
      "cell_type": "code",
      "source": [
        "message[-1]"
      ],
      "metadata": {
        "colab": {
          "base_uri": "https://localhost:8080/",
          "height": 36
        },
        "id": "KeVC7Yle236z",
        "outputId": "712c50ec-6122-4db0-9049-822289332ca5"
      },
      "execution_count": 228,
      "outputs": [
        {
          "output_type": "execute_result",
          "data": {
            "application/vnd.google.colaboratory.intrinsic+json": {
              "type": "string"
            },
            "text/plain": [
              "'!'"
            ]
          },
          "metadata": {},
          "execution_count": 228
        }
      ]
    },
    {
      "cell_type": "code",
      "source": [
        "message[:3]  # 문자열에서 첫 3글자"
      ],
      "metadata": {
        "colab": {
          "base_uri": "https://localhost:8080/",
          "height": 36
        },
        "id": "Es2ze9913AQ8",
        "outputId": "62e13d4d-9cb9-4e47-a2d7-817f9443ca64"
      },
      "execution_count": 229,
      "outputs": [
        {
          "output_type": "execute_result",
          "data": {
            "application/vnd.google.colaboratory.intrinsic+json": {
              "type": "string"
            },
            "text/plain": [
              "'Hel'"
            ]
          },
          "metadata": {},
          "execution_count": 229
        }
      ]
    },
    {
      "cell_type": "code",
      "source": [
        "message[-3:]  # 문자열에서 마지막 3글자"
      ],
      "metadata": {
        "colab": {
          "base_uri": "https://localhost:8080/",
          "height": 36
        },
        "id": "OgCNk7rn3HxC",
        "outputId": "850b4736-6871-4fb2-adaf-9a0a0b1c503d"
      },
      "execution_count": 230,
      "outputs": [
        {
          "output_type": "execute_result",
          "data": {
            "application/vnd.google.colaboratory.intrinsic+json": {
              "type": "string"
            },
            "text/plain": [
              "'on!'"
            ]
          },
          "metadata": {},
          "execution_count": 230
        }
      ]
    },
    {
      "cell_type": "markdown",
      "source": [
        "# list의 산술 연산\n",
        "\n",
        "* `+`: concatenate. 두 개의 리스트를 하나의 리스트로 합침.\n",
        "* `*`: replicate. 리스트의 원소드를 곱해주는 숫자만큼 복사해서 원소의 개수를 늘림."
      ],
      "metadata": {
        "id": "i2j7ckl93ojW"
      }
    },
    {
      "cell_type": "code",
      "source": [
        "'Hello' + 'Python'"
      ],
      "metadata": {
        "colab": {
          "base_uri": "https://localhost:8080/",
          "height": 36
        },
        "id": "EfBt6b243QqL",
        "outputId": "06daef7a-06e0-4fff-c752-bccd86cd6433"
      },
      "execution_count": 231,
      "outputs": [
        {
          "output_type": "execute_result",
          "data": {
            "application/vnd.google.colaboratory.intrinsic+json": {
              "type": "string"
            },
            "text/plain": [
              "'HelloPython'"
            ]
          },
          "metadata": {},
          "execution_count": 231
        }
      ]
    },
    {
      "cell_type": "code",
      "source": [
        "[1, 2, 3] + [10, 20, 30]"
      ],
      "metadata": {
        "colab": {
          "base_uri": "https://localhost:8080/"
        },
        "id": "kJFUqD6r3-xD",
        "outputId": "f6a37f5d-47e6-4271-8c9a-7df0bdd3b955"
      },
      "execution_count": 232,
      "outputs": [
        {
          "output_type": "execute_result",
          "data": {
            "text/plain": [
              "[1, 2, 3, 10, 20, 30]"
            ]
          },
          "metadata": {},
          "execution_count": 232
        }
      ]
    },
    {
      "cell_type": "code",
      "source": [
        "'Hello' * 3"
      ],
      "metadata": {
        "colab": {
          "base_uri": "https://localhost:8080/",
          "height": 36
        },
        "id": "9JqtWt-P4HXS",
        "outputId": "a3ef0030-27f0-414c-fa44-bb4ea80871e1"
      },
      "execution_count": 233,
      "outputs": [
        {
          "output_type": "execute_result",
          "data": {
            "application/vnd.google.colaboratory.intrinsic+json": {
              "type": "string"
            },
            "text/plain": [
              "'HelloHelloHello'"
            ]
          },
          "metadata": {},
          "execution_count": 233
        }
      ]
    },
    {
      "cell_type": "code",
      "source": [
        "[1, 2, 3] * 3"
      ],
      "metadata": {
        "colab": {
          "base_uri": "https://localhost:8080/"
        },
        "id": "FG5p9HwF4Swy",
        "outputId": "c34e5b56-220c-44d6-8b92-75726930c308"
      },
      "execution_count": 234,
      "outputs": [
        {
          "output_type": "execute_result",
          "data": {
            "text/plain": [
              "[1, 2, 3, 1, 2, 3, 1, 2, 3]"
            ]
          },
          "metadata": {},
          "execution_count": 234
        }
      ]
    },
    {
      "cell_type": "markdown",
      "source": [
        "# list의 기능들(메서드)"
      ],
      "metadata": {
        "id": "2q3rXLYf4pjT"
      }
    },
    {
      "cell_type": "markdown",
      "source": [
        "## element 추가"
      ],
      "metadata": {
        "id": "RF3jChHi4yo7"
      }
    },
    {
      "cell_type": "code",
      "source": [
        "numbers"
      ],
      "metadata": {
        "colab": {
          "base_uri": "https://localhost:8080/"
        },
        "id": "u1mp3y_S44w6",
        "outputId": "d5549fcd-2e17-4db2-bc3e-8117ddc1e02a"
      },
      "execution_count": 235,
      "outputs": [
        {
          "output_type": "execute_result",
          "data": {
            "text/plain": [
              "[1, 20, 3, 40, 7]"
            ]
          },
          "metadata": {},
          "execution_count": 235
        }
      ]
    },
    {
      "cell_type": "markdown",
      "source": [
        "`list.append(arg)`\n",
        "\n",
        "리스트의 가장 마지막에 새로운 원소(arg)를 추가"
      ],
      "metadata": {
        "id": "01nSC4VR5B0b"
      }
    },
    {
      "cell_type": "code",
      "source": [
        "numbers.append(100)"
      ],
      "metadata": {
        "id": "a5OO_jy048Hb"
      },
      "execution_count": 236,
      "outputs": []
    },
    {
      "cell_type": "code",
      "source": [
        "numbers"
      ],
      "metadata": {
        "colab": {
          "base_uri": "https://localhost:8080/"
        },
        "id": "soFK3ULK5XET",
        "outputId": "4552c17a-06b6-41b5-f1b3-2b26a74c7ddc"
      },
      "execution_count": 237,
      "outputs": [
        {
          "output_type": "execute_result",
          "data": {
            "text/plain": [
              "[1, 20, 3, 40, 7, 100]"
            ]
          },
          "metadata": {},
          "execution_count": 237
        }
      ]
    },
    {
      "cell_type": "markdown",
      "source": [
        "`list.insert(index, value)`\n",
        "\n",
        "list의 index 위치에 value를 추가(삽입)"
      ],
      "metadata": {
        "id": "NrJn9gw45jHU"
      }
    },
    {
      "cell_type": "code",
      "source": [
        "numbers.insert(1, 100)"
      ],
      "metadata": {
        "id": "_FKTz7uG5dL6"
      },
      "execution_count": 238,
      "outputs": []
    },
    {
      "cell_type": "code",
      "source": [
        "numbers"
      ],
      "metadata": {
        "colab": {
          "base_uri": "https://localhost:8080/"
        },
        "id": "AqKM0tHd6HFz",
        "outputId": "7f8fded8-da5a-477e-a14e-d17849c73e33"
      },
      "execution_count": 239,
      "outputs": [
        {
          "output_type": "execute_result",
          "data": {
            "text/plain": [
              "[1, 100, 20, 3, 40, 7, 100]"
            ]
          },
          "metadata": {},
          "execution_count": 239
        }
      ]
    },
    {
      "cell_type": "markdown",
      "source": [
        "`list.extend(iterable)`\n",
        "\n",
        "리스트 이어 붙이기(concatenate). `+` 연산과 동일한 기능."
      ],
      "metadata": {
        "id": "wRI7YRwo6TOD"
      }
    },
    {
      "cell_type": "code",
      "source": [
        "numbers.extend([2, 4, 6])  # numbers + [2, 4, 6]"
      ],
      "metadata": {
        "id": "kcCscaS66ImC"
      },
      "execution_count": 240,
      "outputs": []
    },
    {
      "cell_type": "code",
      "source": [
        "numbers"
      ],
      "metadata": {
        "colab": {
          "base_uri": "https://localhost:8080/"
        },
        "id": "lXBjcbJC6ujD",
        "outputId": "363881a3-34d4-4557-c957-60425dab143d"
      },
      "execution_count": 241,
      "outputs": [
        {
          "output_type": "execute_result",
          "data": {
            "text/plain": [
              "[1, 100, 20, 3, 40, 7, 100, 2, 4, 6]"
            ]
          },
          "metadata": {},
          "execution_count": 241
        }
      ]
    },
    {
      "cell_type": "code",
      "source": [
        "# 주의!!!\n",
        "numbers.append([1, 3, 5])  #> 리스트의 가장 마지막에 다른 리스트가 원소로 추가."
      ],
      "metadata": {
        "id": "BRuUcMjH6vu9"
      },
      "execution_count": 242,
      "outputs": []
    },
    {
      "cell_type": "code",
      "source": [
        "numbers"
      ],
      "metadata": {
        "colab": {
          "base_uri": "https://localhost:8080/"
        },
        "id": "n1ClBMD_7Hfz",
        "outputId": "bef2f73c-cb40-491b-dcdd-f482b3a00a34"
      },
      "execution_count": 243,
      "outputs": [
        {
          "output_type": "execute_result",
          "data": {
            "text/plain": [
              "[1, 100, 20, 3, 40, 7, 100, 2, 4, 6, [1, 3, 5]]"
            ]
          },
          "metadata": {},
          "execution_count": 243
        }
      ]
    },
    {
      "cell_type": "markdown",
      "source": [
        "## element 삭제"
      ],
      "metadata": {
        "id": "75JjIq22M8DL"
      }
    },
    {
      "cell_type": "markdown",
      "source": [
        "`list.remove(value)`\n",
        "\n",
        "list에서 처음 등장하는 value 한 개를 삭제."
      ],
      "metadata": {
        "id": "lHQIA06oNAJy"
      }
    },
    {
      "cell_type": "code",
      "source": [
        "numbers.remove(100)"
      ],
      "metadata": {
        "id": "O9Sw9HBR7IZS"
      },
      "execution_count": 244,
      "outputs": []
    },
    {
      "cell_type": "code",
      "source": [
        "numbers"
      ],
      "metadata": {
        "colab": {
          "base_uri": "https://localhost:8080/"
        },
        "id": "3qfoP4v_NiMD",
        "outputId": "0b20f56e-18f9-4715-e224-466a19da8b39"
      },
      "execution_count": 245,
      "outputs": [
        {
          "output_type": "execute_result",
          "data": {
            "text/plain": [
              "[1, 20, 3, 40, 7, 100, 2, 4, 6, [1, 3, 5]]"
            ]
          },
          "metadata": {},
          "execution_count": 245
        }
      ]
    },
    {
      "cell_type": "markdown",
      "source": [
        "`list.pop(index)`\n",
        "\n",
        "list에서 index 위치에 있는 값을 삭제하고, 삭제한 값을 리턴. index를 전달하지 않으면, list에서 *가장 마지막 원소*를 삭제."
      ],
      "metadata": {
        "id": "KBZTT98oNq7e"
      }
    },
    {
      "cell_type": "code",
      "source": [
        "numbers.pop(0)"
      ],
      "metadata": {
        "colab": {
          "base_uri": "https://localhost:8080/"
        },
        "id": "5y9Y90KhNjOC",
        "outputId": "d4358fd4-b3ba-415a-b46c-84cdbb4b9680"
      },
      "execution_count": 246,
      "outputs": [
        {
          "output_type": "execute_result",
          "data": {
            "text/plain": [
              "1"
            ]
          },
          "metadata": {},
          "execution_count": 246
        }
      ]
    },
    {
      "cell_type": "code",
      "source": [
        "numbers"
      ],
      "metadata": {
        "colab": {
          "base_uri": "https://localhost:8080/"
        },
        "id": "AM2CcL8zOQvD",
        "outputId": "6bf51ad3-664b-40de-93e5-a067353a7a72"
      },
      "execution_count": 247,
      "outputs": [
        {
          "output_type": "execute_result",
          "data": {
            "text/plain": [
              "[20, 3, 40, 7, 100, 2, 4, 6, [1, 3, 5]]"
            ]
          },
          "metadata": {},
          "execution_count": 247
        }
      ]
    },
    {
      "cell_type": "code",
      "source": [
        "numbers.pop()"
      ],
      "metadata": {
        "colab": {
          "base_uri": "https://localhost:8080/"
        },
        "id": "G8D9FLRaObga",
        "outputId": "aa180866-d3b4-46d6-ba44-fe978a123781"
      },
      "execution_count": 248,
      "outputs": [
        {
          "output_type": "execute_result",
          "data": {
            "text/plain": [
              "[1, 3, 5]"
            ]
          },
          "metadata": {},
          "execution_count": 248
        }
      ]
    },
    {
      "cell_type": "code",
      "source": [
        "numbers"
      ],
      "metadata": {
        "colab": {
          "base_uri": "https://localhost:8080/"
        },
        "id": "U5oKCg02OjEr",
        "outputId": "7dd09b4f-59a6-42c7-e2ca-bba84332a4ad"
      },
      "execution_count": 249,
      "outputs": [
        {
          "output_type": "execute_result",
          "data": {
            "text/plain": [
              "[20, 3, 40, 7, 100, 2, 4, 6]"
            ]
          },
          "metadata": {},
          "execution_count": 249
        }
      ]
    },
    {
      "cell_type": "markdown",
      "source": [
        "`list.clear()`\n",
        "\n",
        "list의 모든 원소들을 삭제."
      ],
      "metadata": {
        "id": "EKdEnbBoO7nz"
      }
    },
    {
      "cell_type": "code",
      "source": [
        "numbers.clear()"
      ],
      "metadata": {
        "id": "b60ibb5qOpz7"
      },
      "execution_count": 250,
      "outputs": []
    },
    {
      "cell_type": "code",
      "source": [
        "numbers  #> empty list(빈 리스트)"
      ],
      "metadata": {
        "colab": {
          "base_uri": "https://localhost:8080/"
        },
        "id": "OsJC5ZjyPKI7",
        "outputId": "d39c04a2-7918-4cbf-e0b0-1ef407e93681"
      },
      "execution_count": 251,
      "outputs": [
        {
          "output_type": "execute_result",
          "data": {
            "text/plain": [
              "[]"
            ]
          },
          "metadata": {},
          "execution_count": 251
        }
      ]
    },
    {
      "cell_type": "markdown",
      "source": [
        "## list의 값 수정\n",
        "\n",
        "```\n",
        "list[index] = value\n",
        "```"
      ],
      "metadata": {
        "id": "cMrnJ3ofPeZE"
      }
    },
    {
      "cell_type": "code",
      "source": [
        "numbers = [1, 3, 5, 7]\n",
        "numbers"
      ],
      "metadata": {
        "colab": {
          "base_uri": "https://localhost:8080/"
        },
        "id": "x6i6hN9DPLka",
        "outputId": "7fcdd21b-363b-4105-84e1-338f1cd81ef2"
      },
      "execution_count": 252,
      "outputs": [
        {
          "output_type": "execute_result",
          "data": {
            "text/plain": [
              "[1, 3, 5, 7]"
            ]
          },
          "metadata": {},
          "execution_count": 252
        }
      ]
    },
    {
      "cell_type": "code",
      "source": [
        "numbers[1] = 100  # 인덱스 1 위치의 값(3)을 100으로 변경"
      ],
      "metadata": {
        "id": "UDfQrBfMPwv8"
      },
      "execution_count": 253,
      "outputs": []
    },
    {
      "cell_type": "code",
      "source": [
        "numbers"
      ],
      "metadata": {
        "colab": {
          "base_uri": "https://localhost:8080/"
        },
        "id": "gRfUprIRP857",
        "outputId": "e1646487-70ae-460f-81d8-1b3032e4cabd"
      },
      "execution_count": 254,
      "outputs": [
        {
          "output_type": "execute_result",
          "data": {
            "text/plain": [
              "[1, 100, 5, 7]"
            ]
          },
          "metadata": {},
          "execution_count": 254
        }
      ]
    },
    {
      "cell_type": "markdown",
      "source": [
        "# list와 for 반복문"
      ],
      "metadata": {
        "id": "ZMLIOBi9QGcD"
      }
    },
    {
      "cell_type": "code",
      "source": [
        "for x in 'hello':\n",
        "    print(x)"
      ],
      "metadata": {
        "colab": {
          "base_uri": "https://localhost:8080/"
        },
        "id": "tb7lb1ddP9lq",
        "outputId": "be201753-d773-4d59-b9fe-4fb62c3f8df7"
      },
      "execution_count": 255,
      "outputs": [
        {
          "output_type": "stream",
          "name": "stdout",
          "text": [
            "h\n",
            "e\n",
            "l\n",
            "l\n",
            "o\n"
          ]
        }
      ]
    },
    {
      "cell_type": "code",
      "source": [
        "for x in numbers:\n",
        "    print(x)"
      ],
      "metadata": {
        "colab": {
          "base_uri": "https://localhost:8080/"
        },
        "id": "ylqKh0zxQaVb",
        "outputId": "64554a40-d2a8-4369-d8ff-9939db536e89"
      },
      "execution_count": 256,
      "outputs": [
        {
          "output_type": "stream",
          "name": "stdout",
          "text": [
            "1\n",
            "100\n",
            "5\n",
            "7\n"
          ]
        }
      ]
    },
    {
      "cell_type": "markdown",
      "source": [
        "리스트에서 인덱스와 그 인덱스의 원소가 모두 필요한 경우"
      ],
      "metadata": {
        "id": "w1cwJFogRPCF"
      }
    },
    {
      "cell_type": "code",
      "source": [
        "len(numbers)  # 리스트 numbers의 원소의 개수를 리턴."
      ],
      "metadata": {
        "colab": {
          "base_uri": "https://localhost:8080/"
        },
        "id": "dkByXKZ4Qt6K",
        "outputId": "44c2ab5c-4499-4350-c48d-f9268b096e3a"
      },
      "execution_count": 257,
      "outputs": [
        {
          "output_type": "execute_result",
          "data": {
            "text/plain": [
              "4"
            ]
          },
          "metadata": {},
          "execution_count": 257
        }
      ]
    },
    {
      "cell_type": "code",
      "source": [
        "for i in range(len(numbers)):\n",
        "    print(i, ':', numbers[i])"
      ],
      "metadata": {
        "colab": {
          "base_uri": "https://localhost:8080/"
        },
        "id": "-EUDeGifRsNL",
        "outputId": "1e766a72-6d7c-4bf8-ad25-357c81dbb394"
      },
      "execution_count": 258,
      "outputs": [
        {
          "output_type": "stream",
          "name": "stdout",
          "text": [
            "0 : 1\n",
            "1 : 100\n",
            "2 : 5\n",
            "3 : 7\n"
          ]
        }
      ]
    },
    {
      "cell_type": "code",
      "source": [
        "# list에서 리스트의 인덱스와 그 인덱스 위치의 값을 동시에 반복(iteration)\n",
        "for index, value in enumerate(numbers):\n",
        "    print(index, ':', value)"
      ],
      "metadata": {
        "colab": {
          "base_uri": "https://localhost:8080/"
        },
        "id": "AbnH0EokR9s6",
        "outputId": "c688f969-46ea-41c4-fc81-29d2b04c0987"
      },
      "execution_count": 259,
      "outputs": [
        {
          "output_type": "stream",
          "name": "stdout",
          "text": [
            "0 : 1\n",
            "1 : 100\n",
            "2 : 5\n",
            "3 : 7\n"
          ]
        }
      ]
    },
    {
      "cell_type": "markdown",
      "source": [
        "# Exercises"
      ],
      "metadata": {
        "id": "vjlLrB08Uxjz"
      }
    },
    {
      "cell_type": "markdown",
      "source": [
        "Python에서 난수(random number) 생성: `random` 모듈을 import하고, `random` 모듈에 있는 함수들을 사용."
      ],
      "metadata": {
        "id": "Jsdky8PxVf9-"
      }
    },
    {
      "cell_type": "code",
      "source": [
        "import random  # random 모듈 임포트(사용)"
      ],
      "metadata": {
        "id": "Cw5_ajs3Ve2K"
      },
      "execution_count": 260,
      "outputs": []
    },
    {
      "cell_type": "code",
      "source": [
        "random.random()  # 0 <= x < 1 범위의 실수(float) 난수를 리턴."
      ],
      "metadata": {
        "colab": {
          "base_uri": "https://localhost:8080/"
        },
        "id": "Df0PBHjbVtX7",
        "outputId": "e72a13e6-1fb0-4bae-9924-2a0cf63d00b7"
      },
      "execution_count": 261,
      "outputs": [
        {
          "output_type": "execute_result",
          "data": {
            "text/plain": [
              "0.7832934371848393"
            ]
          },
          "metadata": {},
          "execution_count": 261
        }
      ]
    },
    {
      "cell_type": "code",
      "source": [
        "random.randrange(1, 5)  # 1 <= x < 5 범위의 정수(int) 난수를 리턴."
      ],
      "metadata": {
        "colab": {
          "base_uri": "https://localhost:8080/"
        },
        "id": "jmyw5EQ6Wfez",
        "outputId": "ad2b537e-1ef3-4788-cf26-31983e335063"
      },
      "execution_count": 262,
      "outputs": [
        {
          "output_type": "execute_result",
          "data": {
            "text/plain": [
              "1"
            ]
          },
          "metadata": {},
          "execution_count": 262
        }
      ]
    },
    {
      "cell_type": "code",
      "source": [
        "random.randrange(5)  # 0 <= x < 5 범위의 정수 난수를 리턴."
      ],
      "metadata": {
        "colab": {
          "base_uri": "https://localhost:8080/"
        },
        "id": "2Ci5TcrAXQDz",
        "outputId": "fbde478a-f0ea-4e4b-b69a-08482b2418ff"
      },
      "execution_count": 263,
      "outputs": [
        {
          "output_type": "execute_result",
          "data": {
            "text/plain": [
              "1"
            ]
          },
          "metadata": {},
          "execution_count": 263
        }
      ]
    },
    {
      "cell_type": "code",
      "source": [
        "random.randint(1, 5)  # 1 <= x <= 5 범위의 정수 난수를 리턴."
      ],
      "metadata": {
        "colab": {
          "base_uri": "https://localhost:8080/"
        },
        "id": "t4EtjOtEXtTZ",
        "outputId": "93c762ac-37b8-4822-a9d4-26cd29ef7629"
      },
      "execution_count": 264,
      "outputs": [
        {
          "output_type": "execute_result",
          "data": {
            "text/plain": [
              "4"
            ]
          },
          "metadata": {},
          "execution_count": 264
        }
      ]
    },
    {
      "cell_type": "markdown",
      "source": [
        "## Ex 1.\n",
        "\n",
        "1. 빈 리스트를 생성.\n",
        "1. 1 이상 10 이하의 정수 난수 5개를 저장.\n",
        "1. 리스트에 저장된 모든 정수들의 합을 계산, 출력.\n",
        "1. 리스트에 저장된 모든 정수들의 평균을 계산, 출력."
      ],
      "metadata": {
        "id": "8EjcfSE5U2bj"
      }
    },
    {
      "cell_type": "code",
      "source": [
        "numbers = []\n",
        "numbers"
      ],
      "metadata": {
        "colab": {
          "base_uri": "https://localhost:8080/"
        },
        "id": "diGiywZCTaBc",
        "outputId": "ce782593-7c04-45d2-c2f4-6c81682089e5"
      },
      "execution_count": 265,
      "outputs": [
        {
          "output_type": "execute_result",
          "data": {
            "text/plain": [
              "[]"
            ]
          },
          "metadata": {},
          "execution_count": 265
        }
      ]
    },
    {
      "cell_type": "code",
      "source": [
        "for _ in range(5):\n",
        "    numbers.append(random.randrange(1, 11))\n",
        "    print(numbers)"
      ],
      "metadata": {
        "colab": {
          "base_uri": "https://localhost:8080/"
        },
        "id": "g-mSjRj5dwoz",
        "outputId": "357bad13-1381-46a0-9eb6-e51a496f1031"
      },
      "execution_count": 266,
      "outputs": [
        {
          "output_type": "stream",
          "name": "stdout",
          "text": [
            "[7]\n",
            "[7, 9]\n",
            "[7, 9, 3]\n",
            "[7, 9, 3, 1]\n",
            "[7, 9, 3, 1, 3]\n"
          ]
        }
      ]
    },
    {
      "cell_type": "code",
      "source": [
        "sum(numbers)  # sum(iterable): iterable 타입 객체의 모든 원소들의 합을 리턴."
      ],
      "metadata": {
        "colab": {
          "base_uri": "https://localhost:8080/"
        },
        "id": "8pbh7IjDej5z",
        "outputId": "971e0179-b659-445e-bd04-afe022d65268"
      },
      "execution_count": 267,
      "outputs": [
        {
          "output_type": "execute_result",
          "data": {
            "text/plain": [
              "23"
            ]
          },
          "metadata": {},
          "execution_count": 267
        }
      ]
    },
    {
      "cell_type": "code",
      "source": [
        "total = 0\n",
        "for x in numbers:\n",
        "    total += x\n",
        "\n",
        "total"
      ],
      "metadata": {
        "colab": {
          "base_uri": "https://localhost:8080/"
        },
        "id": "F7wC-U9Mewnj",
        "outputId": "15c309fa-3dc4-4ba3-9f32-012d9c3947b0"
      },
      "execution_count": 268,
      "outputs": [
        {
          "output_type": "execute_result",
          "data": {
            "text/plain": [
              "23"
            ]
          },
          "metadata": {},
          "execution_count": 268
        }
      ]
    },
    {
      "cell_type": "code",
      "source": [
        "total / len(numbers)"
      ],
      "metadata": {
        "colab": {
          "base_uri": "https://localhost:8080/"
        },
        "id": "2sLEcI9UfLsr",
        "outputId": "7b6a1790-c8b8-456e-9bd0-218c02d082dc"
      },
      "execution_count": 269,
      "outputs": [
        {
          "output_type": "execute_result",
          "data": {
            "text/plain": [
              "4.6"
            ]
          },
          "metadata": {},
          "execution_count": 269
        }
      ]
    },
    {
      "cell_type": "markdown",
      "source": [
        "## Ex 2.\n",
        "\n",
        "1. 빈 리스트(numbers) 생성.\n",
        "1. `[10, 100)` 범위의 난수 10개를 빈 리스트 numbers에 저장.\n",
        "1. numbers에서 짝수들만 선택해서 evens 리스트에 저장.\n",
        "1. numnbers에서 홀수들만 선택해서 odds 리스트에 저장."
      ],
      "metadata": {
        "id": "zySieZ59gkD7"
      }
    },
    {
      "cell_type": "code",
      "source": [
        "numbers = []  # 빈 리스트 생성\n",
        "for _ in range(10):  # 10번 반복하면서\n",
        "    numbers.append(random.randrange(10, 100))  # 10 이상 100 미만의 난수를 리스트에 추가\n",
        "\n",
        "numbers  # 리스트 내용 출력"
      ],
      "metadata": {
        "colab": {
          "base_uri": "https://localhost:8080/"
        },
        "id": "aTBBmbqTfeOr",
        "outputId": "3c2be0ea-d2a5-463a-ae9b-eaaf67e40d2c"
      },
      "execution_count": 270,
      "outputs": [
        {
          "output_type": "execute_result",
          "data": {
            "text/plain": [
              "[56, 50, 41, 33, 31, 24, 95, 99, 25, 77]"
            ]
          },
          "metadata": {},
          "execution_count": 270
        }
      ]
    },
    {
      "cell_type": "code",
      "source": [
        "evens = []  # numbers의 짝수들을 저장할 리스트\n",
        "for x in numbers:  # 리스트 numbers의 원소들을 반복(iteration)하면서\n",
        "    if x % 2 == 0:  # numbers에서 꺼낸 원소가 짝수이면\n",
        "        evens.append(x)  # 리스트 evens에 추가\n",
        "\n",
        "evens"
      ],
      "metadata": {
        "colab": {
          "base_uri": "https://localhost:8080/"
        },
        "id": "BSILWDSgj9Ej",
        "outputId": "578c31b6-2484-47b0-9bac-dc8b48b18e9e"
      },
      "execution_count": 271,
      "outputs": [
        {
          "output_type": "execute_result",
          "data": {
            "text/plain": [
              "[56, 50, 24]"
            ]
          },
          "metadata": {},
          "execution_count": 271
        }
      ]
    },
    {
      "cell_type": "code",
      "source": [
        "odds = []  # numbers의 홀수들을 저장할 리스트\n",
        "for x in numbers:  # numbers의 원소들을 하나씩 반복하면서\n",
        "    if x % 2:  # numbers에서 꺼낸 원소가 홀수이면\n",
        "        odds.append(x)  # odds에 홀수를 추가\n",
        "\n",
        "odds"
      ],
      "metadata": {
        "colab": {
          "base_uri": "https://localhost:8080/"
        },
        "id": "IhxNSrKKk8zb",
        "outputId": "1c33a415-a66c-4030-a8c4-82277606a24f"
      },
      "execution_count": 272,
      "outputs": [
        {
          "output_type": "execute_result",
          "data": {
            "text/plain": [
              "[41, 33, 31, 95, 99, 25, 77]"
            ]
          },
          "metadata": {},
          "execution_count": 272
        }
      ]
    },
    {
      "cell_type": "markdown",
      "source": [
        "## Ex 3.\n",
        "\n",
        "1. 빈 리스트(numbers)를 생성.\n",
        "1. `[-10, 10]` 범위의 난수 10개를 numbers에 저장.\n",
        "1. numbers의 원소가 양수이면 True, 그렇지 않으면 False를 저장하는 리스트 is_positives를 만들고 출력."
      ],
      "metadata": {
        "id": "2C2H0RzNlmfj"
      }
    },
    {
      "cell_type": "code",
      "source": [
        "numbers = []\n",
        "for _ in range(10):\n",
        "    numbers.append(random.randrange(-10, 11))\n",
        "print(numbers)\n",
        "\n",
        "is_positives = []\n",
        "for x in numbers:\n",
        "    if x > 0:\n",
        "        is_positives.append(True)\n",
        "    else:\n",
        "        is_positives.append(False)\n",
        "print(is_positives)"
      ],
      "metadata": {
        "colab": {
          "base_uri": "https://localhost:8080/"
        },
        "id": "j1L1l5NJleYK",
        "outputId": "c70f9a0d-8064-4ec4-dc77-1b8c53921081"
      },
      "execution_count": 273,
      "outputs": [
        {
          "output_type": "stream",
          "name": "stdout",
          "text": [
            "[9, 10, 9, -7, 7, 8, -4, 9, 4, -7]\n",
            "[True, True, True, False, True, True, False, True, True, False]\n"
          ]
        }
      ]
    },
    {
      "cell_type": "code",
      "source": [
        "numbers = []\n",
        "is_positives = []\n",
        "\n",
        "for _ in range(10):  # 10번 반복하면서\n",
        "    rand_num = random.randrange(-10, 11)  # [-10, 11) 범위의 난수 생성\n",
        "    numbers.append(rand_num)  # 생성된 난수를 numbers에 추가\n",
        "    if rand_num > 0:  # 생성된 난수가 양수이면\n",
        "        is_positives.append(True)  # True를 is_positives에 추가.\n",
        "    else:  # 생성된 난수가 음수이면\n",
        "        is_positives.append(False)  # False를 is_positives에 추가.\n",
        "\n",
        "print(numbers)\n",
        "print(is_positives)"
      ],
      "metadata": {
        "colab": {
          "base_uri": "https://localhost:8080/"
        },
        "id": "Wizt8HVrt2Bj",
        "outputId": "f3aa8970-2beb-4c69-c597-624c1ba3c87b"
      },
      "execution_count": 274,
      "outputs": [
        {
          "output_type": "stream",
          "name": "stdout",
          "text": [
            "[-10, 7, 10, 0, -8, -10, -9, -7, -3, 1]\n",
            "[False, True, True, False, False, False, False, False, False, True]\n"
          ]
        }
      ]
    },
    {
      "cell_type": "markdown",
      "source": [
        "## Ex 4.\n",
        "\n",
        "1. 빈 리스트 gender_codes를 생성.\n",
        "1. gender_codes에 0 또는 1을 랜덤하게 10번 저장.\n",
        "1. gender_codes의 값이 0이면 'Male', 1이면 'Female'을 저장하는 리스트 genders를 만들고 출력."
      ],
      "metadata": {
        "id": "cMEWl9DxoNUT"
      }
    },
    {
      "cell_type": "code",
      "source": [
        "gender_codes = []\n",
        "for _ in range(10):\n",
        "    gender_codes.append(random.randrange(0, 2))\n",
        "print(gender_codes)"
      ],
      "metadata": {
        "colab": {
          "base_uri": "https://localhost:8080/"
        },
        "id": "gr-ceGc4oqoa",
        "outputId": "d36a462e-4e4e-422c-f30d-f8753cd10770"
      },
      "execution_count": 275,
      "outputs": [
        {
          "output_type": "stream",
          "name": "stdout",
          "text": [
            "[0, 0, 1, 1, 0, 0, 1, 1, 0, 1]\n"
          ]
        }
      ]
    },
    {
      "cell_type": "code",
      "source": [
        "genders = []\n",
        "for x in gender_codes:\n",
        "    if x == 0:\n",
        "        genders.append('Male')\n",
        "    else:\n",
        "        genders.append('Female')\n",
        "print(genders)"
      ],
      "metadata": {
        "colab": {
          "base_uri": "https://localhost:8080/"
        },
        "id": "eXqbFstZvjjy",
        "outputId": "8224c5e0-600f-46af-801e-7c4cb042128f"
      },
      "execution_count": 276,
      "outputs": [
        {
          "output_type": "stream",
          "name": "stdout",
          "text": [
            "['Male', 'Male', 'Female', 'Female', 'Male', 'Male', 'Female', 'Female', 'Male', 'Female']\n"
          ]
        }
      ]
    },
    {
      "cell_type": "markdown",
      "source": [
        "# List Comprehension(리스트 내포)"
      ],
      "metadata": {
        "id": "n14ZF55mwCDb"
      }
    },
    {
      "cell_type": "markdown",
      "source": [
        "1 ~ 10까지 정수를 차례로 저장하고 있는 리스트: `[1, 2, 3, ..., 9, 10]`"
      ],
      "metadata": {
        "id": "33i4V3bEweQ3"
      }
    },
    {
      "cell_type": "code",
      "source": [
        "numbers = []\n",
        "for x in range(1, 11):\n",
        "    numbers.append(x)\n",
        "numbers"
      ],
      "metadata": {
        "colab": {
          "base_uri": "https://localhost:8080/"
        },
        "id": "uAFD5QYWvvrT",
        "outputId": "c7223b0c-b8f3-4906-923a-b4da93bf50d2"
      },
      "execution_count": 277,
      "outputs": [
        {
          "output_type": "execute_result",
          "data": {
            "text/plain": [
              "[1, 2, 3, 4, 5, 6, 7, 8, 9, 10]"
            ]
          },
          "metadata": {},
          "execution_count": 277
        }
      ]
    },
    {
      "cell_type": "code",
      "source": [
        "numbers = [x for x in range(1, 11)]\n",
        "numbers"
      ],
      "metadata": {
        "colab": {
          "base_uri": "https://localhost:8080/"
        },
        "id": "_B7VIJ0Lw20r",
        "outputId": "1909e813-2302-434c-8e2a-75ee2ce08549"
      },
      "execution_count": 278,
      "outputs": [
        {
          "output_type": "execute_result",
          "data": {
            "text/plain": [
              "[1, 2, 3, 4, 5, 6, 7, 8, 9, 10]"
            ]
          },
          "metadata": {},
          "execution_count": 278
        }
      ]
    },
    {
      "cell_type": "markdown",
      "source": [
        "1부터 10까지 정수들의 제곱을 저장하는 리스트: `[1, 4, 9, 16, ..., 64, 81, 100]`"
      ],
      "metadata": {
        "id": "wOL-LVnKxqUk"
      }
    },
    {
      "cell_type": "code",
      "source": [
        "squares = []\n",
        "for x in range(1, 11):\n",
        "    squares.append(x ** 2)\n",
        "squares"
      ],
      "metadata": {
        "colab": {
          "base_uri": "https://localhost:8080/"
        },
        "id": "Q892XVenxCDM",
        "outputId": "9a0b194d-2f1e-4eb5-a69c-5dfb34f95abe"
      },
      "execution_count": 279,
      "outputs": [
        {
          "output_type": "execute_result",
          "data": {
            "text/plain": [
              "[1, 4, 9, 16, 25, 36, 49, 64, 81, 100]"
            ]
          },
          "metadata": {},
          "execution_count": 279
        }
      ]
    },
    {
      "cell_type": "code",
      "source": [
        "squares2 = [x ** 2 for x in range(1, 11)]\n",
        "squares2"
      ],
      "metadata": {
        "colab": {
          "base_uri": "https://localhost:8080/"
        },
        "id": "jlsBKpsPy33z",
        "outputId": "51324486-dfe2-4efa-fb08-75a69ac03e9d"
      },
      "execution_count": 280,
      "outputs": [
        {
          "output_type": "execute_result",
          "data": {
            "text/plain": [
              "[1, 4, 9, 16, 25, 36, 49, 64, 81, 100]"
            ]
          },
          "metadata": {},
          "execution_count": 280
        }
      ]
    },
    {
      "cell_type": "markdown",
      "source": [
        "0 이상 10 이하의 짝수들을 저장하는 리스트: `[0, 2, 4, 6, 8, 10]`"
      ],
      "metadata": {
        "id": "54PM2VYzzbfc"
      }
    },
    {
      "cell_type": "code",
      "source": [
        "evens = [x for x in range(0, 11, 2)]\n",
        "print(evens)"
      ],
      "metadata": {
        "colab": {
          "base_uri": "https://localhost:8080/"
        },
        "id": "29rr5_azzTdM",
        "outputId": "7700d148-689f-42a1-c8a4-4de118adfeb4"
      },
      "execution_count": 281,
      "outputs": [
        {
          "output_type": "stream",
          "name": "stdout",
          "text": [
            "[0, 2, 4, 6, 8, 10]\n"
          ]
        }
      ]
    },
    {
      "cell_type": "markdown",
      "source": [
        "0 이상 10 이하의 홀수들을 저장하는 리스트: `[1, 3, 5, 7, 9]`"
      ],
      "metadata": {
        "id": "wLO66GKC0J0L"
      }
    },
    {
      "cell_type": "code",
      "source": [
        "odds = [x for x in range(1, 10, 2)]\n",
        "odds"
      ],
      "metadata": {
        "colab": {
          "base_uri": "https://localhost:8080/"
        },
        "id": "MAaRRh3N0ATk",
        "outputId": "3bd9856f-0c3d-4d99-b369-89b65327fc83"
      },
      "execution_count": 282,
      "outputs": [
        {
          "output_type": "execute_result",
          "data": {
            "text/plain": [
              "[1, 3, 5, 7, 9]"
            ]
          },
          "metadata": {},
          "execution_count": 282
        }
      ]
    },
    {
      "cell_type": "code",
      "source": [
        "# 10 이상 100 미만의 정수 난수 10개를 저장하는 리스트\n",
        "numbers = [random.randrange(10, 100) for _ in range(10)]\n",
        "numbers"
      ],
      "metadata": {
        "colab": {
          "base_uri": "https://localhost:8080/"
        },
        "id": "srxsd7U90fHb",
        "outputId": "c36cd89d-8c24-4caf-fee4-110fd93f3c93"
      },
      "execution_count": 283,
      "outputs": [
        {
          "output_type": "execute_result",
          "data": {
            "text/plain": [
              "[51, 55, 58, 26, 73, 35, 61, 19, 11, 11]"
            ]
          },
          "metadata": {},
          "execution_count": 283
        }
      ]
    },
    {
      "cell_type": "code",
      "source": [
        "# numbers에서 짝수들만 선택해서 저장한 리스트\n",
        "evens = [x for x in numbers if x % 2 == 0]\n",
        "evens"
      ],
      "metadata": {
        "colab": {
          "base_uri": "https://localhost:8080/"
        },
        "id": "psUMNNXG5Str",
        "outputId": "1a39b835-e177-4349-e4d4-01ea5cf4fd2a"
      },
      "execution_count": 284,
      "outputs": [
        {
          "output_type": "execute_result",
          "data": {
            "text/plain": [
              "[58, 26]"
            ]
          },
          "metadata": {},
          "execution_count": 284
        }
      ]
    },
    {
      "cell_type": "code",
      "source": [
        "# numbers에서 홀수들만 선택해서 저장한 리스트\n",
        "odds = [x for x in numbers if x % 2]\n",
        "odds"
      ],
      "metadata": {
        "colab": {
          "base_uri": "https://localhost:8080/"
        },
        "id": "h15xaoOE5nw9",
        "outputId": "bc0ee08f-b117-41bd-99f7-0dfb7b55fe89"
      },
      "execution_count": 285,
      "outputs": [
        {
          "output_type": "execute_result",
          "data": {
            "text/plain": [
              "[51, 55, 73, 35, 61, 19, 11, 11]"
            ]
          },
          "metadata": {},
          "execution_count": 285
        }
      ]
    },
    {
      "cell_type": "code",
      "source": [
        "# numbers의 숫자가 짝수이면 'even', 홀수이면 'odd'을 저장하는 리스트\n",
        "is_even = ['even' if x % 2 == 0 else 'odd' \n",
        "           for x in numbers]\n",
        "is_even"
      ],
      "metadata": {
        "colab": {
          "base_uri": "https://localhost:8080/"
        },
        "id": "tPLgY5EM6gOT",
        "outputId": "925f2426-5a05-442d-b3e9-76a4aa3c2dce"
      },
      "execution_count": 286,
      "outputs": [
        {
          "output_type": "execute_result",
          "data": {
            "text/plain": [
              "['odd', 'odd', 'even', 'even', 'odd', 'odd', 'odd', 'odd', 'odd', 'odd']"
            ]
          },
          "metadata": {},
          "execution_count": 286
        }
      ]
    },
    {
      "cell_type": "code",
      "source": [
        "x = -100\n",
        "is_positive = True if x > 0 else False  # if-else 표현식: Java의 삼항 연산자(if 조건 ? 값1 : 값2)\n",
        "is_positive"
      ],
      "metadata": {
        "colab": {
          "base_uri": "https://localhost:8080/"
        },
        "id": "zITADn0X7UBE",
        "outputId": "1debe1e8-301e-4c5b-c3b3-609b8422b097"
      },
      "execution_count": 287,
      "outputs": [
        {
          "output_type": "execute_result",
          "data": {
            "text/plain": [
              "False"
            ]
          },
          "metadata": {},
          "execution_count": 287
        }
      ]
    },
    {
      "cell_type": "code",
      "source": [
        "# -10 이상 10 이하의 정수 난수 10개를 저장하는 리스트\n",
        "numbers = [random.randrange(-10, 11) for _ in range(10)]\n",
        "numbers"
      ],
      "metadata": {
        "colab": {
          "base_uri": "https://localhost:8080/"
        },
        "id": "O9ACE7ZT9E4r",
        "outputId": "3c34330d-ec79-427f-cd8b-9dfba71ab0a5"
      },
      "execution_count": 288,
      "outputs": [
        {
          "output_type": "execute_result",
          "data": {
            "text/plain": [
              "[9, -1, -5, 4, 1, 2, 8, 2, -4, 6]"
            ]
          },
          "metadata": {},
          "execution_count": 288
        }
      ]
    },
    {
      "cell_type": "code",
      "source": [
        "# numbers의 원소들 중에서 양수들만 저장하는 리스트\n",
        "positives = [x for x in numbers if x > 0]\n",
        "positives"
      ],
      "metadata": {
        "colab": {
          "base_uri": "https://localhost:8080/"
        },
        "id": "pMcATLh4-frO",
        "outputId": "6e55cc49-5507-4fe6-9804-504c38ed4f11"
      },
      "execution_count": 289,
      "outputs": [
        {
          "output_type": "execute_result",
          "data": {
            "text/plain": [
              "[9, 4, 1, 2, 8, 2, 6]"
            ]
          },
          "metadata": {},
          "execution_count": 289
        }
      ]
    },
    {
      "cell_type": "code",
      "source": [
        "# numbers의 원소들 중에서 양수가 아닌(음수 또는 0) 숫자들만 저장하는 리스트\n",
        "not_positives = [x for x in numbers if x <= 0]\n",
        "not_positives"
      ],
      "metadata": {
        "colab": {
          "base_uri": "https://localhost:8080/"
        },
        "id": "gcZVJZX2-lY7",
        "outputId": "5b7e6d52-4a7f-4faa-b5d5-8de16fbcf242"
      },
      "execution_count": 290,
      "outputs": [
        {
          "output_type": "execute_result",
          "data": {
            "text/plain": [
              "[-1, -5, -4]"
            ]
          },
          "metadata": {},
          "execution_count": 290
        }
      ]
    },
    {
      "cell_type": "code",
      "source": [
        "# numbers의 원소가 양수이면 True, 그렇지 않으면 False를 저장하는 리스트\n",
        "is_positives = [True if x > 0 else False\n",
        "                for x in numbers]\n",
        "is_positives"
      ],
      "metadata": {
        "colab": {
          "base_uri": "https://localhost:8080/"
        },
        "id": "hNVdXLkz-wc7",
        "outputId": "197cab63-ec23-448e-c979-010a0dbd13aa"
      },
      "execution_count": 291,
      "outputs": [
        {
          "output_type": "execute_result",
          "data": {
            "text/plain": [
              "[True, False, False, True, True, True, True, True, False, True]"
            ]
          },
          "metadata": {},
          "execution_count": 291
        }
      ]
    },
    {
      "cell_type": "markdown",
      "source": [
        "# List Comprehension 연습"
      ],
      "metadata": {
        "id": "vJL6Gw7MD599"
      }
    },
    {
      "cell_type": "markdown",
      "source": [
        "## Ex 1.\n",
        "\n",
        "1. 0 또는 1을 랜덤하게 10개를 저장하는 리스트 gender_codes를 만들고 출력.\n",
        "1. gender_codes의 값이 0이면 'Male', 1이면 'Female'을 저장하는 리스트 genders를 만들고 출력"
      ],
      "metadata": {
        "id": "SYfRXovTEBOr"
      }
    },
    {
      "cell_type": "code",
      "source": [
        ""
      ],
      "metadata": {
        "id": "MPJnzM16Bp5D"
      },
      "execution_count": null,
      "outputs": []
    },
    {
      "cell_type": "markdown",
      "source": [
        "## Ex 2.\n",
        "\n",
        "1. 0, 1, 2를 랜덤하게 10개 저장하는 리스트 gender_codes를 만들고 출력.\n",
        "1. gender_codes의 값이 0이면 'Male', 1이면 'Female', 2이면 'Unknown'을 저장하는 리스트 genders를 만들고 출력."
      ],
      "metadata": {
        "id": "PniccpbwEUYl"
      }
    },
    {
      "cell_type": "code",
      "source": [
        ""
      ],
      "metadata": {
        "id": "v-WWyUUREvDj"
      },
      "execution_count": null,
      "outputs": []
    },
    {
      "cell_type": "markdown",
      "source": [
        "## Ex 3.\n",
        "\n",
        "1. 0 이상 10 미만의 정수 난수 10개를 저장하는 리스트 numbers1을 만들고 출력.\n",
        "1. 0 이상 10 미만의 정수 난수 10개를 저장하는 리스트 numbers2을 만들고 출력.\n",
        "1. numbers1과 numbers2에서 같은 인덱스의 원소들끼리의 합을 저장하는 리스트 adds를 만들고 출력.\n",
        "1. numbers1과 numbers2에서 같은 인덱스의 원소들끼리의 곱을 저장하는 리스트 mutiplicatoins를 만들고 출력.\n",
        "1. mutiplications의 모든 원소들의 합을 계산하고 출력."
      ],
      "metadata": {
        "id": "vGF7cSxXExAz"
      }
    },
    {
      "cell_type": "code",
      "source": [
        ""
      ],
      "metadata": {
        "id": "26mxvmR5FjRr"
      },
      "execution_count": null,
      "outputs": []
    }
  ]
}