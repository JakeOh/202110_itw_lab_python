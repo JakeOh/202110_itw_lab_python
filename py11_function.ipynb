{
  "nbformat": 4,
  "nbformat_minor": 0,
  "metadata": {
    "colab": {
      "name": "py11_function.ipynb",
      "provenance": [],
      "collapsed_sections": [],
      "authorship_tag": "ABX9TyP7bId2MLSf0Qo1HnOmlYJu",
      "include_colab_link": true
    },
    "kernelspec": {
      "name": "python3",
      "display_name": "Python 3"
    },
    "language_info": {
      "name": "python"
    }
  },
  "cells": [
    {
      "cell_type": "markdown",
      "metadata": {
        "id": "view-in-github",
        "colab_type": "text"
      },
      "source": [
        "<a href=\"https://colab.research.google.com/github/JakeOh/202110_itw_lab_python/blob/main/py11_function.ipynb\" target=\"_parent\"><img src=\"https://colab.research.google.com/assets/colab-badge.svg\" alt=\"Open In Colab\"/></a>"
      ]
    },
    {
      "cell_type": "markdown",
      "source": [
        "# 1급 객체(first-class object)로서의 함수\n",
        "\n",
        "함수는 객체이다.\n",
        "* 함수는 변수에 할당할 수 있음.\n",
        "* 함수는 argument로 다른 함수에 전달할 수 있음.\n",
        "* 함수의 반환 값이 함수가 될 수 있음. 함수는 함수를 반환할 수 있음.\n",
        "* 함수 내부에서 다른 함수를 정의할 수 있음."
      ],
      "metadata": {
        "id": "ODOW279eDXQa"
      }
    },
    {
      "cell_type": "code",
      "execution_count": 1,
      "metadata": {
        "colab": {
          "base_uri": "https://localhost:8080/"
        },
        "id": "if6KKtsmDKF2",
        "outputId": "8a0352a3-a27a-4e0f-d436-5411643671fc"
      },
      "outputs": [
        {
          "output_type": "stream",
          "name": "stdout",
          "text": [
            "1\n"
          ]
        }
      ],
      "source": [
        "x = 1  # 객체는 변수에 할당(저장)할 수 있음.\n",
        "print(x)  # 객체는 함수의 argument로 전달할 수 있음."
      ]
    },
    {
      "cell_type": "code",
      "source": [
        "# 함수 정의\n",
        "def twice(x):\n",
        "    return 2 * x"
      ],
      "metadata": {
        "id": "PhiiobpSEuAM"
      },
      "execution_count": 2,
      "outputs": []
    },
    {
      "cell_type": "code",
      "source": [
        "print(twice)  #> twice는 함수 객체(function object)"
      ],
      "metadata": {
        "colab": {
          "base_uri": "https://localhost:8080/"
        },
        "id": "wvXF7dujFQyS",
        "outputId": "d7b3269e-7ecd-4b50-e7c3-d381933d00e9"
      },
      "execution_count": 3,
      "outputs": [
        {
          "output_type": "stream",
          "name": "stdout",
          "text": [
            "<function twice at 0x7fbf45e7e200>\n"
          ]
        }
      ]
    },
    {
      "cell_type": "code",
      "source": [
        "result = twice(5)  # 함수 호출 결과(리턴 값)을 변수 result에 저장.\n",
        "result"
      ],
      "metadata": {
        "colab": {
          "base_uri": "https://localhost:8080/"
        },
        "id": "DckpQFpgFdvg",
        "outputId": "3c0de1da-cce6-476b-fb66-7d7836868a2f"
      },
      "execution_count": 6,
      "outputs": [
        {
          "output_type": "execute_result",
          "data": {
            "text/plain": [
              "10"
            ]
          },
          "metadata": {},
          "execution_count": 6
        }
      ]
    },
    {
      "cell_type": "code",
      "source": [
        "double = twice  # 함수는 변수에 할당할 수 있음.\n",
        "print(double)"
      ],
      "metadata": {
        "colab": {
          "base_uri": "https://localhost:8080/"
        },
        "id": "mmJQ5C0RF6uY",
        "outputId": "7d99f0b7-99ae-428a-e21b-7c281e6dd3ab"
      },
      "execution_count": 8,
      "outputs": [
        {
          "output_type": "stream",
          "name": "stdout",
          "text": [
            "<function twice at 0x7fbf45e7e200>\n"
          ]
        }
      ]
    },
    {
      "cell_type": "code",
      "source": [
        "double(5)  # double 함수 호출 결과는 twice 함수 호출 결과와 동일."
      ],
      "metadata": {
        "colab": {
          "base_uri": "https://localhost:8080/"
        },
        "id": "aXPFZs4uGHyi",
        "outputId": "37f6c886-6e79-465f-d029-f9f782a4d062"
      },
      "execution_count": 9,
      "outputs": [
        {
          "output_type": "execute_result",
          "data": {
            "text/plain": [
              "10"
            ]
          },
          "metadata": {},
          "execution_count": 9
        }
      ]
    },
    {
      "cell_type": "markdown",
      "source": [
        "argument로 함수를 전달받는 함수"
      ],
      "metadata": {
        "id": "iQgbtQv5HbyK"
      }
    },
    {
      "cell_type": "code",
      "source": [
        "def calculator(x, y, fn):\n",
        "    \"\"\"\n",
        "    x, y: 숫자(int, float)\n",
        "    fn: 숫자 2개를 argument로 전달받고, 숫자를 리턴하는 함수\n",
        "    \"\"\"\n",
        "    result = fn(x, y)\n",
        "    return result"
      ],
      "metadata": {
        "id": "HYw9d-7NG0kY"
      },
      "execution_count": 10,
      "outputs": []
    },
    {
      "cell_type": "code",
      "source": [
        "def plus(x, y):\n",
        "    return x + y"
      ],
      "metadata": {
        "id": "CNF54ps6IHys"
      },
      "execution_count": 11,
      "outputs": []
    },
    {
      "cell_type": "code",
      "source": [
        "calculator(1, 2, plus)"
      ],
      "metadata": {
        "colab": {
          "base_uri": "https://localhost:8080/"
        },
        "id": "tiZikLE4IM9w",
        "outputId": "c54fe93b-8653-4491-a6bc-c2875186185c"
      },
      "execution_count": 12,
      "outputs": [
        {
          "output_type": "execute_result",
          "data": {
            "text/plain": [
              "3"
            ]
          },
          "metadata": {},
          "execution_count": 12
        }
      ]
    },
    {
      "cell_type": "code",
      "source": [
        "def minus(x, y):\n",
        "    return x - y"
      ],
      "metadata": {
        "id": "gq1yy-gBIZXI"
      },
      "execution_count": 13,
      "outputs": []
    },
    {
      "cell_type": "code",
      "source": [
        "calculator(1, 2, minus)"
      ],
      "metadata": {
        "colab": {
          "base_uri": "https://localhost:8080/"
        },
        "id": "W3dN1az5JACU",
        "outputId": "491520fb-f45b-481d-cac4-872dd8fe8264"
      },
      "execution_count": 14,
      "outputs": [
        {
          "output_type": "execute_result",
          "data": {
            "text/plain": [
              "-1"
            ]
          },
          "metadata": {},
          "execution_count": 14
        }
      ]
    },
    {
      "cell_type": "markdown",
      "source": [
        "함수 내부에서 함수를 정의(선언)하고, 함수를 리턴."
      ],
      "metadata": {
        "id": "tsdvmzJiKJYA"
      }
    },
    {
      "cell_type": "code",
      "source": [
        "def make_increment(n):\n",
        "    # 내부 함수(inner function), 지역 함수(local function): 함수 내부에서 정의하는 함수\n",
        "    def add_n(x):\n",
        "        return x + n\n",
        "\n",
        "    # make_increment 함수는 add_n 함수 (객체)를 리턴.\n",
        "    return add_n"
      ],
      "metadata": {
        "id": "sk10fX2HJHB4"
      },
      "execution_count": 15,
      "outputs": []
    },
    {
      "cell_type": "code",
      "source": [
        "increase_by_2 = make_increment(2)\n",
        "print(increase_by_2)"
      ],
      "metadata": {
        "colab": {
          "base_uri": "https://localhost:8080/"
        },
        "id": "C0r0oyovLJ7B",
        "outputId": "db821843-7f23-49b9-93e9-f2504ad4fafa"
      },
      "execution_count": 18,
      "outputs": [
        {
          "output_type": "stream",
          "name": "stdout",
          "text": [
            "<function make_increment.<locals>.add_n at 0x7fbf45e7dc20>\n"
          ]
        }
      ]
    },
    {
      "cell_type": "code",
      "source": [
        "increase_by_2(10)"
      ],
      "metadata": {
        "colab": {
          "base_uri": "https://localhost:8080/"
        },
        "id": "SU9LOi8PLV8w",
        "outputId": "92b331f2-f207-4dcc-8bfa-018a130bb4a0"
      },
      "execution_count": 19,
      "outputs": [
        {
          "output_type": "execute_result",
          "data": {
            "text/plain": [
              "12"
            ]
          },
          "metadata": {},
          "execution_count": 19
        }
      ]
    },
    {
      "cell_type": "code",
      "source": [
        "increase_by_10 = make_increment(10)\n",
        "print(increase_by_10)"
      ],
      "metadata": {
        "colab": {
          "base_uri": "https://localhost:8080/"
        },
        "id": "NdxnPtztL5DY",
        "outputId": "1732c971-237f-434b-f262-588baef22057"
      },
      "execution_count": 20,
      "outputs": [
        {
          "output_type": "stream",
          "name": "stdout",
          "text": [
            "<function make_increment.<locals>.add_n at 0x7fbf45dd8c20>\n"
          ]
        }
      ]
    },
    {
      "cell_type": "code",
      "source": [
        "increase_by_10(10)"
      ],
      "metadata": {
        "colab": {
          "base_uri": "https://localhost:8080/"
        },
        "id": "kRaw4H9XMLsI",
        "outputId": "6556bf73-7c47-4b1f-90fe-a1b05afec60f"
      },
      "execution_count": 21,
      "outputs": [
        {
          "output_type": "execute_result",
          "data": {
            "text/plain": [
              "20"
            ]
          },
          "metadata": {},
          "execution_count": 21
        }
      ]
    },
    {
      "cell_type": "code",
      "source": [
        ""
      ],
      "metadata": {
        "id": "QsjS5p-HMkLJ"
      },
      "execution_count": null,
      "outputs": []
    }
  ]
}