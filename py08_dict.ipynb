{
  "nbformat": 4,
  "nbformat_minor": 0,
  "metadata": {
    "colab": {
      "name": "py08_dict.ipynb",
      "provenance": [],
      "collapsed_sections": [],
      "authorship_tag": "ABX9TyOkLQeFGYDtALWZPE3JC+h1",
      "include_colab_link": true
    },
    "kernelspec": {
      "name": "python3",
      "display_name": "Python 3"
    },
    "language_info": {
      "name": "python"
    }
  },
  "cells": [
    {
      "cell_type": "markdown",
      "metadata": {
        "id": "view-in-github",
        "colab_type": "text"
      },
      "source": [
        "<a href=\"https://colab.research.google.com/github/JakeOh/202110_itw_lab_python/blob/main/py08_dict.ipynb\" target=\"_parent\"><img src=\"https://colab.research.google.com/assets/colab-badge.svg\" alt=\"Open In Colab\"/></a>"
      ]
    },
    {
      "cell_type": "markdown",
      "source": [
        "# dict\n",
        "\n",
        "* dictionary(사전) 형식의 데이터 타입.\n",
        "* 키(key)를 기반으로 값(value)를 저장하는 데이터 타입.\n",
        "    * list, tuple: index를 기반으로 값을 저장하는 데이터 타입.\n",
        "    * key의 역할은 list 또는 tuple에서 인덱스의 역할과 마찬가지로, dict 타입에 저장되어 있는 유일한 1개의 값을 참조하기 위한 용도.\n"
      ],
      "metadata": {
        "id": "QZ79LH9gp5r2"
      }
    },
    {
      "cell_type": "code",
      "execution_count": 1,
      "metadata": {
        "colab": {
          "base_uri": "https://localhost:8080/"
        },
        "id": "ndiXzdsXp18h",
        "outputId": "2a761351-ce9f-46ee-9652-3179764a5dc1"
      },
      "outputs": [
        {
          "output_type": "execute_result",
          "data": {
            "text/plain": [
              "{1: '홍길동', 2: 'Scott', 10: '김길동'}"
            ]
          },
          "metadata": {},
          "execution_count": 1
        }
      ],
      "source": [
        "students = {1: '홍길동', 2: 'Scott', 10: '김길동'}\n",
        "students"
      ]
    },
    {
      "cell_type": "code",
      "source": [
        "type(students)"
      ],
      "metadata": {
        "colab": {
          "base_uri": "https://localhost:8080/"
        },
        "id": "5kp_83LZrMU2",
        "outputId": "6a1c88ae-3b39-412a-c50d-daaa62ce4723"
      },
      "execution_count": 2,
      "outputs": [
        {
          "output_type": "execute_result",
          "data": {
            "text/plain": [
              "dict"
            ]
          },
          "metadata": {},
          "execution_count": 2
        }
      ]
    },
    {
      "cell_type": "code",
      "source": [
        "len(students)"
      ],
      "metadata": {
        "colab": {
          "base_uri": "https://localhost:8080/"
        },
        "id": "7tuFPmVCrgx8",
        "outputId": "85966d69-06f9-4488-a51f-46e5c6d4612b"
      },
      "execution_count": 3,
      "outputs": [
        {
          "output_type": "execute_result",
          "data": {
            "text/plain": [
              "3"
            ]
          },
          "metadata": {},
          "execution_count": 3
        }
      ]
    },
    {
      "cell_type": "code",
      "source": [
        "# dict의 저장된 값(value)를 참조할 때 인덱스 연산자([])와 키(key)를 사용.\n",
        "students[1]"
      ],
      "metadata": {
        "colab": {
          "base_uri": "https://localhost:8080/",
          "height": 35
        },
        "id": "ORnY6k6RrzJL",
        "outputId": "e12b42e6-d3e2-453c-ccfe-dec644ac7f82"
      },
      "execution_count": 4,
      "outputs": [
        {
          "output_type": "execute_result",
          "data": {
            "application/vnd.google.colaboratory.intrinsic+json": {
              "type": "string"
            },
            "text/plain": [
              "'홍길동'"
            ]
          },
          "metadata": {},
          "execution_count": 4
        }
      ]
    },
    {
      "cell_type": "code",
      "source": [
        "# dict에 새로운 아이템 추가: dict[new_key] = value\n",
        "students[11] = 'Tiger'\n",
        "students"
      ],
      "metadata": {
        "colab": {
          "base_uri": "https://localhost:8080/"
        },
        "id": "x1s-_qlCsaBx",
        "outputId": "0bfb6e74-9890-41bc-8c4c-c3a892a1da7d"
      },
      "execution_count": 5,
      "outputs": [
        {
          "output_type": "execute_result",
          "data": {
            "text/plain": [
              "{1: '홍길동', 2: 'Scott', 10: '김길동', 11: 'Tiger'}"
            ]
          },
          "metadata": {},
          "execution_count": 5
        }
      ]
    },
    {
      "cell_type": "code",
      "source": [
        "# dict에서 해당 키의 값을 변경: dict[key] = new_value\n",
        "students[10] = 'King'\n",
        "students"
      ],
      "metadata": {
        "colab": {
          "base_uri": "https://localhost:8080/"
        },
        "id": "psQp9NNQtLHT",
        "outputId": "e174203c-1216-4d18-ebaa-8572412f3e92"
      },
      "execution_count": 6,
      "outputs": [
        {
          "output_type": "execute_result",
          "data": {
            "text/plain": [
              "{1: '홍길동', 2: 'Scott', 10: 'King', 11: 'Tiger'}"
            ]
          },
          "metadata": {},
          "execution_count": 6
        }
      ]
    },
    {
      "cell_type": "markdown",
      "source": [
        "# dict의 메서드(기능)"
      ],
      "metadata": {
        "id": "Sh1nkv4gt0ty"
      }
    },
    {
      "cell_type": "code",
      "source": [
        "book = {'title': '점프 투 파이썬',\n",
        "        'author': '박응용',\n",
        "        'price': 10_000}\n",
        "book"
      ],
      "metadata": {
        "colab": {
          "base_uri": "https://localhost:8080/"
        },
        "id": "Kk0s3mExthts",
        "outputId": "4d52bc4f-a3bd-4f9f-ae59-fce88ad55b44"
      },
      "execution_count": 7,
      "outputs": [
        {
          "output_type": "execute_result",
          "data": {
            "text/plain": [
              "{'author': '박응용', 'price': 10000, 'title': '점프 투 파이썬'}"
            ]
          },
          "metadata": {},
          "execution_count": 7
        }
      ]
    },
    {
      "cell_type": "code",
      "source": [
        "# dict의 key들의 집합\n",
        "book.keys()"
      ],
      "metadata": {
        "colab": {
          "base_uri": "https://localhost:8080/"
        },
        "id": "W0yFbOGIuTYb",
        "outputId": "eec1e2d9-ef3e-4c16-e9e1-948a827d7680"
      },
      "execution_count": 8,
      "outputs": [
        {
          "output_type": "execute_result",
          "data": {
            "text/plain": [
              "dict_keys(['title', 'author', 'price'])"
            ]
          },
          "metadata": {},
          "execution_count": 8
        }
      ]
    },
    {
      "cell_type": "code",
      "source": [
        "# dict의 value들의 집합\n",
        "book.values()"
      ],
      "metadata": {
        "colab": {
          "base_uri": "https://localhost:8080/"
        },
        "id": "rfmNIk0zvMAP",
        "outputId": "ade675a8-91ee-4f3c-af6b-90d53a05cbf5"
      },
      "execution_count": 9,
      "outputs": [
        {
          "output_type": "execute_result",
          "data": {
            "text/plain": [
              "dict_values(['점프 투 파이썬', '박응용', 10000])"
            ]
          },
          "metadata": {},
          "execution_count": 9
        }
      ]
    },
    {
      "cell_type": "code",
      "source": [
        "# dict의 item(key, value)들의 집합\n",
        "book.items()"
      ],
      "metadata": {
        "colab": {
          "base_uri": "https://localhost:8080/"
        },
        "id": "3tGOb_G6vg7D",
        "outputId": "17828c27-8d2f-4c28-a28f-913d013749bf"
      },
      "execution_count": 10,
      "outputs": [
        {
          "output_type": "execute_result",
          "data": {
            "text/plain": [
              "dict_items([('title', '점프 투 파이썬'), ('author', '박응용'), ('price', 10000)])"
            ]
          },
          "metadata": {},
          "execution_count": 10
        }
      ]
    },
    {
      "cell_type": "code",
      "source": [
        "# dict에서 해당 key의 value를 리턴.\n",
        "book['title']  # 인덱스 연산자 + 키"
      ],
      "metadata": {
        "colab": {
          "base_uri": "https://localhost:8080/",
          "height": 35
        },
        "id": "ksBTvrPIv3dt",
        "outputId": "7b9f9d14-9937-4ae7-9cb0-39dc4c4d7b30"
      },
      "execution_count": 11,
      "outputs": [
        {
          "output_type": "execute_result",
          "data": {
            "application/vnd.google.colaboratory.intrinsic+json": {
              "type": "string"
            },
            "text/plain": [
              "'점프 투 파이썬'"
            ]
          },
          "metadata": {},
          "execution_count": 11
        }
      ]
    },
    {
      "cell_type": "code",
      "source": [
        "book.get('title')  # 메서드를 호출하면서 키를 argument로 전달."
      ],
      "metadata": {
        "colab": {
          "base_uri": "https://localhost:8080/",
          "height": 35
        },
        "id": "v5WNti8pw6a0",
        "outputId": "0a772bb6-3d31-4f67-ee6d-51cd27318af5"
      },
      "execution_count": 12,
      "outputs": [
        {
          "output_type": "execute_result",
          "data": {
            "application/vnd.google.colaboratory.intrinsic+json": {
              "type": "string"
            },
            "text/plain": [
              "'점프 투 파이썬'"
            ]
          },
          "metadata": {},
          "execution_count": 12
        }
      ]
    },
    {
      "cell_type": "code",
      "source": [
        "# 인덱스 연산자를 사용하는 경우, dict에 없는 키를 사용하면 KeyError가 발생함.\n",
        "# print(book['isbn'])\n",
        "\n",
        "# get() 메서드를 호출할 때는 dict에 없는 키인 경우 None을 리턴.\n",
        "print(book.get('isbn'))"
      ],
      "metadata": {
        "colab": {
          "base_uri": "https://localhost:8080/"
        },
        "id": "GDFza9V6xF3W",
        "outputId": "3c259cd3-944f-4526-8e7f-2d292a16f9c3"
      },
      "execution_count": 15,
      "outputs": [
        {
          "output_type": "stream",
          "name": "stdout",
          "text": [
            "None\n"
          ]
        }
      ]
    },
    {
      "cell_type": "code",
      "source": [
        "# dict에서 아이템 삭제\n",
        "book.pop('price')"
      ],
      "metadata": {
        "colab": {
          "base_uri": "https://localhost:8080/"
        },
        "id": "khDf1s9exlbV",
        "outputId": "65c6ea4c-cdda-41d7-99cf-1c547cfd3c16"
      },
      "execution_count": 16,
      "outputs": [
        {
          "output_type": "execute_result",
          "data": {
            "text/plain": [
              "10000"
            ]
          },
          "metadata": {},
          "execution_count": 16
        }
      ]
    },
    {
      "cell_type": "code",
      "source": [
        "book"
      ],
      "metadata": {
        "colab": {
          "base_uri": "https://localhost:8080/"
        },
        "id": "z4ZRxBJxy7eT",
        "outputId": "0ebc0dce-0dd0-49a5-86c5-0f351fcf0dce"
      },
      "execution_count": 17,
      "outputs": [
        {
          "output_type": "execute_result",
          "data": {
            "text/plain": [
              "{'author': '박응용', 'title': '점프 투 파이썬'}"
            ]
          },
          "metadata": {},
          "execution_count": 17
        }
      ]
    },
    {
      "cell_type": "code",
      "source": [
        ""
      ],
      "metadata": {
        "id": "faMxuLmqzAn3"
      },
      "execution_count": null,
      "outputs": []
    }
  ]
}