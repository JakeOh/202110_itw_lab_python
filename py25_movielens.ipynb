{
  "nbformat": 4,
  "nbformat_minor": 0,
  "metadata": {
    "colab": {
      "name": "py25_movielens.ipynb",
      "provenance": [],
      "authorship_tag": "ABX9TyMKE3SqgTIewU4v8o8zQDDc",
      "include_colab_link": true
    },
    "kernelspec": {
      "name": "python3",
      "display_name": "Python 3"
    },
    "language_info": {
      "name": "python"
    }
  },
  "cells": [
    {
      "cell_type": "markdown",
      "metadata": {
        "id": "view-in-github",
        "colab_type": "text"
      },
      "source": [
        "<a href=\"https://colab.research.google.com/github/JakeOh/202110_itw_lab_python/blob/main/py25_movielens.ipynb\" target=\"_parent\"><img src=\"https://colab.research.google.com/assets/colab-badge.svg\" alt=\"Open In Colab\"/></a>"
      ]
    },
    {
      "cell_type": "code",
      "source": [
        "import numpy as np\n",
        "import pandas as pd\n",
        "import matplotlib.pyplot as plt\n",
        "import seaborn as sns"
      ],
      "metadata": {
        "id": "55I_5TeYFCGu"
      },
      "execution_count": 2,
      "outputs": []
    },
    {
      "cell_type": "code",
      "execution_count": 3,
      "metadata": {
        "id": "EoxKYDttEpSY"
      },
      "outputs": [],
      "source": [
        "# 파일이 저장된 경로\n",
        "movies_file = 'https://github.com/wesm/pydata-book/raw/2nd-edition/datasets/movielens/movies.dat'"
      ]
    },
    {
      "cell_type": "markdown",
      "source": [
        "* movies.dat 파일을 읽고 DataFrame 생성.\n",
        "* DataFrame 탐색.\n",
        "* 장르가 'Animation'인 영화는 몇 개?\n",
        "* 장르가 로맨틱 코미디인 영화는 몇 개?\n",
        "* 어떤 장르의 영화가 가장 많은가?"
      ],
      "metadata": {
        "id": "YsiLi_DWFS_2"
      }
    },
    {
      "cell_type": "code",
      "source": [
        ""
      ],
      "metadata": {
        "id": "6fhx3JCoE8UI"
      },
      "execution_count": null,
      "outputs": []
    }
  ]
}