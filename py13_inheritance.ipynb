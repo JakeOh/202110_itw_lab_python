{
  "nbformat": 4,
  "nbformat_minor": 0,
  "metadata": {
    "colab": {
      "name": "py13_inheritance.ipynb",
      "provenance": [],
      "collapsed_sections": [],
      "authorship_tag": "ABX9TyMQKjO06wEkDY9vyG7BVfun",
      "include_colab_link": true
    },
    "kernelspec": {
      "name": "python3",
      "display_name": "Python 3"
    },
    "language_info": {
      "name": "python"
    }
  },
  "cells": [
    {
      "cell_type": "markdown",
      "metadata": {
        "id": "view-in-github",
        "colab_type": "text"
      },
      "source": [
        "<a href=\"https://colab.research.google.com/github/JakeOh/202110_itw_lab_python/blob/main/py13_inheritance.ipynb\" target=\"_parent\"><img src=\"https://colab.research.google.com/assets/colab-badge.svg\" alt=\"Open In Colab\"/></a>"
      ]
    },
    {
      "cell_type": "markdown",
      "source": [
        "# 상속(Inheritance)\n",
        "\n",
        "* super class(상위 클래스), parent class(부모 클래스), base class(기본 클래스)\n",
        "* sub class(하위 클래스), child class(자식 클래스), derived class(유도 클래스)\n",
        "* 상속: 상위 클래스의 속성들(attributes)과 기능들(methods)을 하위 클래스에서 재사용하는 것.\n",
        "* IS-A 관계가 성립하는 객체들을 상속을 사용해서 구현함.\n",
        "    * 학생은 사람이다.(Student IS A Person.)\n",
        "        * Person: super class\n",
        "        * Student: sub class\n",
        "* HAS-A 관계가 성립하는 객체들은 일반적으로 상속이 아니라, attribute(속성)으로 클래스를 구현함.\n",
        "    * 학생은 시험 성적을 가지고 있다.(Student HAS A Score.)\n",
        "        * Student 클래스의 속성 중 하나로 Score 클래스의 객체를 사용. "
      ],
      "metadata": {
        "id": "UzIOyGLUeeAZ"
      }
    },
    {
      "cell_type": "code",
      "execution_count": 1,
      "metadata": {
        "id": "QY33oFA_eVHW"
      },
      "outputs": [],
      "source": [
        "class Person:\n",
        "    def __init__(self, name):\n",
        "        self.name = name\n",
        "\n",
        "    def say_hello(self):\n",
        "        print(f'안녕하세요, 저는 {self.name}입니다.')"
      ]
    },
    {
      "cell_type": "code",
      "source": [
        "oh_ssam = Person('오쌤')"
      ],
      "metadata": {
        "id": "TO05qYW6hwpM"
      },
      "execution_count": 2,
      "outputs": []
    },
    {
      "cell_type": "code",
      "source": [
        "oh_ssam.say_hello()"
      ],
      "metadata": {
        "colab": {
          "base_uri": "https://localhost:8080/"
        },
        "id": "fpTntsr5iPhX",
        "outputId": "5a8630b2-a77e-46a3-e9d3-dfa4b11f4d43"
      },
      "execution_count": 3,
      "outputs": [
        {
          "output_type": "stream",
          "name": "stdout",
          "text": [
            "안녕하세요, 저는 오쌤입니다.\n"
          ]
        }
      ]
    },
    {
      "cell_type": "markdown",
      "source": [
        "SuperClass를 상속받는 SubClass를 정의하는 방법:\n",
        "\n",
        "```\n",
        "class SubClass(SuperClass):\n",
        "    코드 작성\n",
        "```\n"
      ],
      "metadata": {
        "id": "DxChZEQ7i1-F"
      }
    },
    {
      "cell_type": "code",
      "source": [
        "# Student IS A Person.\n",
        "class Student(Person):\n",
        "    pass"
      ],
      "metadata": {
        "id": "Tlckm5XPiprF"
      },
      "execution_count": 6,
      "outputs": []
    },
    {
      "cell_type": "code",
      "source": [
        "stu = Student('홍길동')"
      ],
      "metadata": {
        "id": "hOokJ5UFjvuu"
      },
      "execution_count": 7,
      "outputs": []
    },
    {
      "cell_type": "code",
      "source": [
        "stu.say_hello()"
      ],
      "metadata": {
        "colab": {
          "base_uri": "https://localhost:8080/"
        },
        "id": "RWlrmt9QkxnF",
        "outputId": "3d1b5782-4356-498a-879c-023a7ab7944a"
      },
      "execution_count": 8,
      "outputs": [
        {
          "output_type": "stream",
          "name": "stdout",
          "text": [
            "안녕하세요, 저는 홍길동입니다.\n"
          ]
        }
      ]
    },
    {
      "cell_type": "markdown",
      "source": [
        "# Method Override\n",
        "\n",
        "* 상위 클래스의 메서드를 하위 클래스에서 재정의하는 것.\n",
        "    * Python은 메서드의 이름만 같으면 (파라미터 개수와 상관없이) 메서드가 재정의됨. - override\n",
        "    * __(주의)__: Java에서는 메서드의 이름과 파라미터 (타입, 개수, 순서)가 동일한 경우 override. 메서드의 이름이 같고 파라미터가 다른 경우는 overloading(같은 이름의 메서드가 2개 이상 존재).\n",
        "* 하위 클래스에서 override가 된 상위 클래스의 메서드를 명시적으로 호출하기 위해서는 `super().method_name(arg)`와 같은 방식으로 사용함."
      ],
      "metadata": {
        "id": "eK-oMWD-pC3M"
      }
    },
    {
      "cell_type": "code",
      "source": [
        "# BusinessPerson IS A Person.\n",
        "class BusinessPerson(Person):\n",
        "    # 부모 클래스 Person의 __init__ 메서드를 override\n",
        "    def __init__(self, name, company=None):\n",
        "        # 부모 클래스 Person의 __init__ 메서드를 호출\n",
        "        super().__init__(name)\n",
        "        self.company = company  # 자식 클래스만 가지고 있는 속성.\n",
        "\n",
        "    # 부모 클래스 Person의 say_hello 메서드를 override\n",
        "    def say_hello(self):\n",
        "        # 부모 클래스 Person의 say_hello 메서드를 명시적으로 호출 - 부모의 기능을 그대로 사용.\n",
        "        super().say_hello()\n",
        "        # 부모의 기능을 확장 - 추가 기능.\n",
        "        print(f'저는 {self.company} 사원입니다.')"
      ],
      "metadata": {
        "id": "PqeW5PbYk6_d"
      },
      "execution_count": 9,
      "outputs": []
    },
    {
      "cell_type": "code",
      "source": [
        "gildong = BusinessPerson(name='홍길동', company='아이티윌')"
      ],
      "metadata": {
        "id": "X8YDPqIMtcRm"
      },
      "execution_count": 10,
      "outputs": []
    },
    {
      "cell_type": "code",
      "source": [
        "gildong.say_hello()"
      ],
      "metadata": {
        "colab": {
          "base_uri": "https://localhost:8080/"
        },
        "id": "Y94iYSmWtqLi",
        "outputId": "abda6ed5-4b21-418d-f610-b12830c55592"
      },
      "execution_count": 11,
      "outputs": [
        {
          "output_type": "stream",
          "name": "stdout",
          "text": [
            "안녕하세요, 저는 홍길동입니다.\n",
            "저는 아이티윌 사원입니다.\n"
          ]
        }
      ]
    },
    {
      "cell_type": "code",
      "source": [
        ""
      ],
      "metadata": {
        "id": "ghRrQwPQt3EL"
      },
      "execution_count": 13,
      "outputs": []
    },
    {
      "cell_type": "code",
      "source": [
        ""
      ],
      "metadata": {
        "id": "uoC7CtHKwd8T"
      },
      "execution_count": null,
      "outputs": []
    }
  ]
}