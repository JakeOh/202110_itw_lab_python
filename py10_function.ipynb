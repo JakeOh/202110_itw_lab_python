{
  "nbformat": 4,
  "nbformat_minor": 0,
  "metadata": {
    "colab": {
      "name": "py10_function.ipynb",
      "provenance": [],
      "collapsed_sections": [],
      "authorship_tag": "ABX9TyPkH+I3cJlqQwFGDFktjQeH",
      "include_colab_link": true
    },
    "kernelspec": {
      "name": "python3",
      "display_name": "Python 3"
    },
    "language_info": {
      "name": "python"
    }
  },
  "cells": [
    {
      "cell_type": "markdown",
      "metadata": {
        "id": "view-in-github",
        "colab_type": "text"
      },
      "source": [
        "<a href=\"https://colab.research.google.com/github/JakeOh/202110_itw_lab_python/blob/main/py10_function.ipynb\" target=\"_parent\"><img src=\"https://colab.research.google.com/assets/colab-badge.svg\" alt=\"Open In Colab\"/></a>"
      ]
    },
    {
      "cell_type": "markdown",
      "source": [
        "# 함수(Function)\n",
        "\n",
        "*   **함수(function)**: 기능을 수행하는 코드 블록.\n",
        "*   **인수(argument)**: 함수를 호출할 때, 함수에게 전달하는 값(들).\n",
        "*   **매개변수(parameter)**: argument를 저장하기 위해서, 함수를 정의할 때 선언하는 (지역) 변수.\n",
        "*   **반환 값(return value)**: 함수가 기능 수행의 결과로 반환하는 값.\n",
        "    * 반환 값이 있는 함수\n",
        "    * 반환 값이 없는 함수"
      ],
      "metadata": {
        "id": "corBfnIWOK3s"
      }
    },
    {
      "cell_type": "code",
      "execution_count": 1,
      "metadata": {
        "id": "ikhsjiB7OAGz"
      },
      "outputs": [],
      "source": [
        "result = len([1, 2, 3, 4, 5])\n",
        "# function: len\n",
        "# argument: [1, 2, 3, 4, 5]\n",
        "# 함수 호출(call, invoke): len([1, 2, 3, 4, 5])\n",
        "# return value: 5"
      ]
    },
    {
      "cell_type": "code",
      "source": [
        "result"
      ],
      "metadata": {
        "colab": {
          "base_uri": "https://localhost:8080/"
        },
        "id": "wA9nB-ShQH9X",
        "outputId": "d56099fd-2db8-4cdf-9deb-887422522f2c"
      },
      "execution_count": 2,
      "outputs": [
        {
          "output_type": "execute_result",
          "data": {
            "text/plain": [
              "5"
            ]
          },
          "metadata": {},
          "execution_count": 2
        }
      ]
    },
    {
      "cell_type": "markdown",
      "source": [
        "# 함수 정의(선언) 방법\n",
        "\n",
        "```\n",
        "def function_name([param1, ...]):\n",
        "    [\"\"\"문서화 주석(documentaion comment): 함수에 대한 설명\"\"\"]\n",
        "    함수 기능 작성(코드)\n",
        "    [return 반환 값]\n",
        "```\n"
      ],
      "metadata": {
        "id": "RbIy7ICPUyBw"
      }
    },
    {
      "cell_type": "code",
      "source": [
        "def subtract(x, y):\n",
        "    \"\"\"숫자 2개(x, y)를 전달받아서, x - y를 반환하는 함수.\n",
        "    \"\"\"\n",
        "    return x - y"
      ],
      "metadata": {
        "id": "eSANItwuQJAl"
      },
      "execution_count": 3,
      "outputs": []
    },
    {
      "cell_type": "code",
      "source": [
        "result = subtract(1, 2)\n",
        "result"
      ],
      "metadata": {
        "colab": {
          "base_uri": "https://localhost:8080/"
        },
        "id": "lW-tK8SqXTQ9",
        "outputId": "bf56aaec-4da0-4c27-c2a0-76031b2d3a77"
      },
      "execution_count": 4,
      "outputs": [
        {
          "output_type": "execute_result",
          "data": {
            "text/plain": [
              "-1"
            ]
          },
          "metadata": {},
          "execution_count": 4
        }
      ]
    },
    {
      "cell_type": "markdown",
      "source": [
        "파이썬은 2개 이상의 값을 반환하는 함수를 정의할 수 있음."
      ],
      "metadata": {
        "id": "g2ZaTR5WYjTk"
      }
    },
    {
      "cell_type": "code",
      "source": [
        "def plus_and_minus(x, y):\n",
        "    \"\"\"2개의 숫자 x, y를 전달받아서, x+y와 x-y를 반환하는 함수.\n",
        "    \"\"\"\n",
        "    return x + y, x - y"
      ],
      "metadata": {
        "id": "TMBr0uafX27Q"
      },
      "execution_count": 5,
      "outputs": []
    },
    {
      "cell_type": "code",
      "source": [
        "result = plus_and_minus(1, 2)\n",
        "result  #> tuple"
      ],
      "metadata": {
        "colab": {
          "base_uri": "https://localhost:8080/"
        },
        "id": "579jtoG8ZJLk",
        "outputId": "9e9910df-9126-4a96-f04c-701b3911e754"
      },
      "execution_count": 6,
      "outputs": [
        {
          "output_type": "execute_result",
          "data": {
            "text/plain": [
              "(3, -1)"
            ]
          },
          "metadata": {},
          "execution_count": 6
        }
      ]
    },
    {
      "cell_type": "code",
      "source": [
        "# tuple decomposition(분해): x, y = (3, -1)\n",
        "plus, minus = plus_and_minus(1, 2)\n",
        "print(plus)\n",
        "print(minus)"
      ],
      "metadata": {
        "colab": {
          "base_uri": "https://localhost:8080/"
        },
        "id": "U86tHQWSZgwt",
        "outputId": "64b20427-f409-48ec-86b6-be1c6441205a"
      },
      "execution_count": 7,
      "outputs": [
        {
          "output_type": "stream",
          "name": "stdout",
          "text": [
            "3\n",
            "-1\n"
          ]
        }
      ]
    },
    {
      "cell_type": "markdown",
      "source": [
        "값을 반환하지 않는 함수"
      ],
      "metadata": {
        "id": "fgRlOCx_aosb"
      }
    },
    {
      "cell_type": "code",
      "source": [
        "def repeat_messages(message, n):\n",
        "    \"\"\"문자열 message와 양의 정수 n을 전달받아서,\n",
        "    전달받은 문자열을 n번 반복해서 출력하는 함수.\n",
        "    \"\"\"\n",
        "    for _ in range(n):\n",
        "        print(message)\n",
        "\n",
        "    # return None  # 반환 값이 없다는 것을 명시적으로 작성.\n",
        "    # 반환 값이 없는 경우 return None 문장을 보통 생략함."
      ],
      "metadata": {
        "id": "mQCQqLxqaNeZ"
      },
      "execution_count": 9,
      "outputs": []
    },
    {
      "cell_type": "code",
      "source": [
        "result = repeat_messages('안녕하세요', 3)"
      ],
      "metadata": {
        "colab": {
          "base_uri": "https://localhost:8080/"
        },
        "id": "cf6pQvT-bidd",
        "outputId": "bd076c51-cfc0-4881-da3d-5ad423fb13ff"
      },
      "execution_count": 11,
      "outputs": [
        {
          "output_type": "stream",
          "name": "stdout",
          "text": [
            "안녕하세요\n",
            "안녕하세요\n",
            "안녕하세요\n"
          ]
        }
      ]
    },
    {
      "cell_type": "code",
      "source": [
        "print(result)  #> None: 값이 없음."
      ],
      "metadata": {
        "colab": {
          "base_uri": "https://localhost:8080/"
        },
        "id": "MuODqTPtb-Ob",
        "outputId": "9bd19949-7f33-4f3d-97f4-302b42c4fe37"
      },
      "execution_count": 12,
      "outputs": [
        {
          "output_type": "stream",
          "name": "stdout",
          "text": [
            "None\n"
          ]
        }
      ]
    },
    {
      "cell_type": "markdown",
      "source": [
        "# 함수 정의/호출 연습"
      ],
      "metadata": {
        "id": "E5d-XKDjc4VY"
      }
    },
    {
      "cell_type": "code",
      "source": [
        "import random  # 난수 관련 함수들을 사용하기 위해서\n",
        "import math  # 수학 함수들을 사용하기 위해서"
      ],
      "metadata": {
        "id": "5PhEJ8_3cE3g"
      },
      "execution_count": 13,
      "outputs": []
    },
    {
      "cell_type": "markdown",
      "source": [
        "## Ex 1.\n",
        "\n",
        "* 함수 이름: make_list\n",
        "* 기능: start 이상 end 미만의 정수 난수 n개를 갖는 리스트를 반환."
      ],
      "metadata": {
        "id": "jZRxh5EVdkjU"
      }
    },
    {
      "cell_type": "code",
      "source": [
        ""
      ],
      "metadata": {
        "id": "MUAP3i32c_Ks"
      },
      "execution_count": null,
      "outputs": []
    },
    {
      "cell_type": "markdown",
      "source": [
        "## Ex 2.\n",
        "\n",
        "* 함수 이름: calc_sum\n",
        "* 기능: 숫자들을 저장하고 있는 리스트의 모든 원소들의 합을 반환."
      ],
      "metadata": {
        "id": "ieofApmvdzU2"
      }
    },
    {
      "cell_type": "markdown",
      "source": [
        "## Ex 3.\n",
        "\n",
        "* 함수 이름: calc_mean\n",
        "* 기능: 숫자들을 저장하고 있는 리스트의 모든 원소들의 평균을 반환."
      ],
      "metadata": {
        "id": "f3ayBvnKeKMU"
      }
    },
    {
      "cell_type": "markdown",
      "source": [
        "## Ex 4.\n",
        "\n",
        "* 함수 이름: calc_variance\n",
        "* 기능: 숫자들을 저장하고 있는 리스트의 원소들의 분산을 반환."
      ],
      "metadata": {
        "id": "iJn8cQnJeTMz"
      }
    },
    {
      "cell_type": "markdown",
      "source": [
        "## Ex 5.\n",
        "\n",
        "* 함수 이름: calc_stddev\n",
        "* 기능: 숫자들을 저장하고 있는 리스트의 원소들의 표준편차를 반환."
      ],
      "metadata": {
        "id": "KkASkmomefqn"
      }
    },
    {
      "cell_type": "markdown",
      "source": [
        "## Ex 6.\n",
        "\n",
        "* 함수 이름: find_max_and_min\n",
        "* 기능: 숫자들을 저장하고 있는 리스트에서 최댓값과 최솟값을 반환."
      ],
      "metadata": {
        "id": "zJFy7EEGetFp"
      }
    },
    {
      "cell_type": "code",
      "source": [
        ""
      ],
      "metadata": {
        "id": "Jsi7W5nEeFjC"
      },
      "execution_count": null,
      "outputs": []
    }
  ]
}