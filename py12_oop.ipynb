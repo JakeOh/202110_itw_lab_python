{
  "nbformat": 4,
  "nbformat_minor": 0,
  "metadata": {
    "colab": {
      "name": "py12_oop.ipynb",
      "provenance": [],
      "collapsed_sections": [],
      "authorship_tag": "ABX9TyOT+iQlLPnFnPOYZaGgkBhu",
      "include_colab_link": true
    },
    "kernelspec": {
      "name": "python3",
      "display_name": "Python 3"
    },
    "language_info": {
      "name": "python"
    }
  },
  "cells": [
    {
      "cell_type": "markdown",
      "metadata": {
        "id": "view-in-github",
        "colab_type": "text"
      },
      "source": [
        "<a href=\"https://colab.research.google.com/github/JakeOh/202110_itw_lab_python/blob/main/py12_oop.ipynb\" target=\"_parent\"><img src=\"https://colab.research.google.com/assets/colab-badge.svg\" alt=\"Open In Colab\"/></a>"
      ]
    },
    {
      "cell_type": "markdown",
      "source": [
        "# OOP(Object-Oriented Programming, 객체 지향 프로그래밍)의 배경\n"
      ],
      "metadata": {
        "id": "k7uWY_dEftbJ"
      }
    },
    {
      "cell_type": "markdown",
      "source": [
        "## list, dict 사용"
      ],
      "metadata": {
        "id": "aORRRg6sf9S4"
      }
    },
    {
      "cell_type": "code",
      "execution_count": 13,
      "metadata": {
        "id": "TvF2hjRyfKgZ"
      },
      "outputs": [],
      "source": [
        "students = [\n",
        "            {'name': 'aa', 'korean': 90, 'english': 95, 'math': 80},\n",
        "            {'name': 'bb', 'korean': 70, 'english': 80, 'math': 55},\n",
        "            {'name': 'cc', 'korean': 80, 'english': 95, 'math': 90},\n",
        "            {'name': 'dd', 'korean': 77, 'english': 99, 'math': 88},\n",
        "]"
      ]
    },
    {
      "cell_type": "code",
      "source": [
        "# 각 학생의 3과목 총점과 평균\n",
        "for s in students:\n",
        "    total = s['korean'] + s['english'] + s['math']\n",
        "    mean = total / 3\n",
        "    print(f'이름: {s[\"name\"]}, 총점: {total}, 평균: {mean}')"
      ],
      "metadata": {
        "colab": {
          "base_uri": "https://localhost:8080/"
        },
        "id": "rSalfv1WhBXg",
        "outputId": "e82d1a65-ef24-4b74-e5aa-4559739f6095"
      },
      "execution_count": 14,
      "outputs": [
        {
          "output_type": "stream",
          "name": "stdout",
          "text": [
            "이름: aa, 총점: 265, 평균: 88.33333333333333\n",
            "이름: bb, 총점: 205, 평균: 68.33333333333333\n",
            "이름: cc, 총점: 265, 평균: 88.33333333333333\n",
            "이름: dd, 총점: 264, 평균: 88.0\n"
          ]
        }
      ]
    },
    {
      "cell_type": "markdown",
      "source": [
        "## 함수형 프로그래밍(Functional Programming)"
      ],
      "metadata": {
        "id": "qmfGSVh5jyaI"
      }
    },
    {
      "cell_type": "code",
      "source": [
        "def create_student(name, korean, english, math):\n",
        "    student = {\n",
        "        'name': name,\n",
        "        'korean': korean,\n",
        "        'english': english,\n",
        "        'math': math,\n",
        "    }\n",
        "    return student"
      ],
      "metadata": {
        "id": "gx2p1Lf_iBr5"
      },
      "execution_count": 15,
      "outputs": []
    },
    {
      "cell_type": "code",
      "source": [
        "students = [\n",
        "            create_student(name='aa', korean=100, english=100, math=100),\n",
        "            create_student(name='bb', korean=90, english=100, math=100),\n",
        "            create_student(name='cc', korean=80, english=100, math=100),\n",
        "            create_student(name='dd', korean=77, english=100, math=100),\n",
        "]"
      ],
      "metadata": {
        "id": "ldI3FjTtkSvQ"
      },
      "execution_count": 16,
      "outputs": []
    },
    {
      "cell_type": "code",
      "source": [
        "def get_total(student):\n",
        "    return student['korean'] + student['english'] + student['math']"
      ],
      "metadata": {
        "id": "NP5-1oOmlKF_"
      },
      "execution_count": 17,
      "outputs": []
    },
    {
      "cell_type": "code",
      "source": [
        "def get_mean(student):\n",
        "    return get_total(student) / 3"
      ],
      "metadata": {
        "id": "2MnhhCralqJo"
      },
      "execution_count": 18,
      "outputs": []
    },
    {
      "cell_type": "code",
      "source": [
        "for s in students:\n",
        "    total = get_total(s)\n",
        "    mean = get_mean(s)\n",
        "    print(f'이름: {s[\"name\"]}, 총점: {total}, 평균: {mean}')"
      ],
      "metadata": {
        "colab": {
          "base_uri": "https://localhost:8080/"
        },
        "id": "th5ZNdX0lw2-",
        "outputId": "8ed60f6f-24db-488e-8442-392f3b9e844d"
      },
      "execution_count": 19,
      "outputs": [
        {
          "output_type": "stream",
          "name": "stdout",
          "text": [
            "이름: aa, 총점: 300, 평균: 100.0\n",
            "이름: bb, 총점: 290, 평균: 96.66666666666667\n",
            "이름: cc, 총점: 280, 평균: 93.33333333333333\n",
            "이름: dd, 총점: 277, 평균: 92.33333333333333\n"
          ]
        }
      ]
    },
    {
      "cell_type": "markdown",
      "source": [
        "## 객체 지향 프로그래밍(OOP)\n",
        "\n",
        "* 객체(object): 소프트웨어로 구현할 대상.\n",
        "* 클래스(class): 객체를 구현하기 위한 소스 코드.\n",
        "    * 속성(attribute, property): 객체가 가져야 하는 데이터. 변수들에 저장되는 값.\n",
        "    * 메서드(method): 객체가 가져야 하는 기능. 클래스 내부에서 정의하는 함수.\n",
        "* 인스턴스(instance): 클래스를 사용해서 메모리에 생성된 객체.\n",
        "* 인스턴스 생성(intantiate): 클래스의 객체를 메모리에 생성하는 것.\n",
        "* 생성자(constructor): 인스턴스를 생성하기 위해서 호출하는 함수. 클래스 이름과 동일한 함수."
      ],
      "metadata": {
        "id": "aVoiZmjInTKR"
      }
    },
    {
      "cell_type": "code",
      "source": [
        "# 클래스 정의\n",
        "class Student:\n",
        "    # 생성자 함수: 생성자가 호출됐을 때 자동으로 호출되는 함수. 속성들을 선언하고 초기화.\n",
        "    def __init__(self, name, korean, english, math):\n",
        "        self.name = name\n",
        "        self.korean = korean\n",
        "        self.english = english\n",
        "        self.math = math\n",
        "\n",
        "    # 메서드\n",
        "    def get_total(self):\n",
        "        return self.korean + self.english + self.math\n",
        "\n",
        "    def get_mean(self):\n",
        "        return self.get_total() / 3\n",
        "\n",
        "    def print_info(self):\n",
        "        print(f'이름: {self.name}, 총점: {self.get_total()}, 평균: {self.get_mean()}')"
      ],
      "metadata": {
        "id": "6C7ITbEmmDFX"
      },
      "execution_count": 20,
      "outputs": []
    },
    {
      "cell_type": "code",
      "source": [
        "stu1 = Student(name='홍길동', korean=100, english=80, math=70)"
      ],
      "metadata": {
        "id": "POWbVGLevmMf"
      },
      "execution_count": 21,
      "outputs": []
    },
    {
      "cell_type": "code",
      "source": [
        "stu1"
      ],
      "metadata": {
        "colab": {
          "base_uri": "https://localhost:8080/"
        },
        "id": "YsKQB_25v_Qm",
        "outputId": "f352e337-86b7-426b-f397-d3048edc7756"
      },
      "execution_count": 22,
      "outputs": [
        {
          "output_type": "execute_result",
          "data": {
            "text/plain": [
              "<__main__.Student at 0x7ff45a1b6910>"
            ]
          },
          "metadata": {},
          "execution_count": 22
        }
      ]
    },
    {
      "cell_type": "code",
      "source": [
        "stu1.get_total()"
      ],
      "metadata": {
        "colab": {
          "base_uri": "https://localhost:8080/"
        },
        "id": "g87tIR1XwALM",
        "outputId": "5743bb21-eda5-416f-fcff-91ec7434d867"
      },
      "execution_count": 23,
      "outputs": [
        {
          "output_type": "execute_result",
          "data": {
            "text/plain": [
              "250"
            ]
          },
          "metadata": {},
          "execution_count": 23
        }
      ]
    },
    {
      "cell_type": "code",
      "source": [
        "stu1.get_mean()"
      ],
      "metadata": {
        "colab": {
          "base_uri": "https://localhost:8080/"
        },
        "id": "6rEhdsSmxeNG",
        "outputId": "78b65fb1-1954-4edd-bca3-a4e9345fa684"
      },
      "execution_count": 24,
      "outputs": [
        {
          "output_type": "execute_result",
          "data": {
            "text/plain": [
              "83.33333333333333"
            ]
          },
          "metadata": {},
          "execution_count": 24
        }
      ]
    },
    {
      "cell_type": "code",
      "source": [
        "stu1.print_info()"
      ],
      "metadata": {
        "colab": {
          "base_uri": "https://localhost:8080/"
        },
        "id": "qTvAaFKVxh28",
        "outputId": "1008c248-76a9-403f-c853-5f9be5af10a9"
      },
      "execution_count": 25,
      "outputs": [
        {
          "output_type": "stream",
          "name": "stdout",
          "text": [
            "이름: 홍길동, 총점: 250, 평균: 83.33333333333333\n"
          ]
        }
      ]
    },
    {
      "cell_type": "code",
      "source": [
        "dir(stu1)  # 객체가 가지고 있는 멤버들(속성과 메서드)의 리스트"
      ],
      "metadata": {
        "colab": {
          "base_uri": "https://localhost:8080/"
        },
        "id": "-GHsBGBvxkw0",
        "outputId": "fd727080-bde7-436f-e6c3-c6cf3410d27c"
      },
      "execution_count": 26,
      "outputs": [
        {
          "output_type": "execute_result",
          "data": {
            "text/plain": [
              "['__class__',\n",
              " '__delattr__',\n",
              " '__dict__',\n",
              " '__dir__',\n",
              " '__doc__',\n",
              " '__eq__',\n",
              " '__format__',\n",
              " '__ge__',\n",
              " '__getattribute__',\n",
              " '__gt__',\n",
              " '__hash__',\n",
              " '__init__',\n",
              " '__init_subclass__',\n",
              " '__le__',\n",
              " '__lt__',\n",
              " '__module__',\n",
              " '__ne__',\n",
              " '__new__',\n",
              " '__reduce__',\n",
              " '__reduce_ex__',\n",
              " '__repr__',\n",
              " '__setattr__',\n",
              " '__sizeof__',\n",
              " '__str__',\n",
              " '__subclasshook__',\n",
              " '__weakref__',\n",
              " 'english',\n",
              " 'get_mean',\n",
              " 'get_total',\n",
              " 'korean',\n",
              " 'math',\n",
              " 'name',\n",
              " 'print_info']"
            ]
          },
          "metadata": {},
          "execution_count": 26
        }
      ]
    },
    {
      "cell_type": "markdown",
      "source": [
        "# class 작성 연습"
      ],
      "metadata": {
        "id": "OUGlpr1vJi_Z"
      }
    },
    {
      "cell_type": "code",
      "source": [
        "import math  # 수학 관련 함수들을 사용하기 위해서"
      ],
      "metadata": {
        "id": "kkvEMGTwJlAI"
      },
      "execution_count": 27,
      "outputs": []
    },
    {
      "cell_type": "code",
      "source": [
        "class Point:\n",
        "    \"\"\"2차원 평면의 점의 좌표를 표현하는 클래스\"\"\"\n",
        "    \n",
        "    def __init__(self, x=0, y=0):\n",
        "        self.x = x\n",
        "        self.y = y\n",
        "\n",
        "    def move(self, dx=0, dy=0):\n",
        "        \"\"\"점의 좌표를 원래 위치에 x축의 방향으로 dx만큼, y축의 방향으로 dy만큼 이동\"\"\"\n",
        "        self.x += dx\n",
        "        self.y += dy\n",
        "\n",
        "    def distance(self, other):\n",
        "        \"\"\"현재 점의 위치와 다른 점 other 사이의 거리를 리턴\"\"\"\n",
        "        return math.sqrt((self.x - other.x) ** 2 + (self.y - other.y) ** 2)"
      ],
      "metadata": {
        "id": "EkolxlshJrc4"
      },
      "execution_count": 28,
      "outputs": []
    },
    {
      "cell_type": "code",
      "source": [
        "pt1 = Point()  # 생성자 호출 -> Point 클래스의 인스턴스 생성"
      ],
      "metadata": {
        "id": "yPuwLSZKNnXo"
      },
      "execution_count": 29,
      "outputs": []
    },
    {
      "cell_type": "code",
      "source": [
        "print(pt1)"
      ],
      "metadata": {
        "colab": {
          "base_uri": "https://localhost:8080/"
        },
        "id": "bu4kncAiN7C4",
        "outputId": "b5553b91-8482-4f5c-d307-a196c5dba4c6"
      },
      "execution_count": 30,
      "outputs": [
        {
          "output_type": "stream",
          "name": "stdout",
          "text": [
            "<__main__.Point object at 0x7ff451ee6750>\n"
          ]
        }
      ]
    },
    {
      "cell_type": "code",
      "source": [
        "# 객체(인스턴스)의 속성들(멤버 변수들)\n",
        "print(pt1.x)\n",
        "print(pt1.y)"
      ],
      "metadata": {
        "colab": {
          "base_uri": "https://localhost:8080/"
        },
        "id": "xme0S-WaN78h",
        "outputId": "4b1d5649-b43a-4f13-985f-d28ef2853b3f"
      },
      "execution_count": 31,
      "outputs": [
        {
          "output_type": "stream",
          "name": "stdout",
          "text": [
            "0\n",
            "0\n"
          ]
        }
      ]
    },
    {
      "cell_type": "code",
      "source": [
        "pt2 = Point(3, 4)\n",
        "print(pt2)\n",
        "print(pt2.x)\n",
        "print(pt2.y)"
      ],
      "metadata": {
        "colab": {
          "base_uri": "https://localhost:8080/"
        },
        "id": "gP2MUjilONKn",
        "outputId": "5f1c4889-d23c-414c-8707-78382d288416"
      },
      "execution_count": 34,
      "outputs": [
        {
          "output_type": "stream",
          "name": "stdout",
          "text": [
            "<__main__.Point object at 0x7ff451ef7090>\n",
            "3\n",
            "4\n"
          ]
        }
      ]
    },
    {
      "cell_type": "code",
      "source": [
        "pt3 = Point(1)\n",
        "print(pt3)\n",
        "print(pt3.x, pt3.y)"
      ],
      "metadata": {
        "colab": {
          "base_uri": "https://localhost:8080/"
        },
        "id": "-GRSxMtJOvbi",
        "outputId": "e9b18d19-8cd6-4a55-ceeb-ed3d11b9cecf"
      },
      "execution_count": 35,
      "outputs": [
        {
          "output_type": "stream",
          "name": "stdout",
          "text": [
            "<__main__.Point object at 0x7ff451ee1410>\n",
            "1 0\n"
          ]
        }
      ]
    },
    {
      "cell_type": "code",
      "source": [
        "pt4 = Point(y=1)\n",
        "print(pt4)\n",
        "print(pt4.x, pt4.y)"
      ],
      "metadata": {
        "colab": {
          "base_uri": "https://localhost:8080/"
        },
        "id": "WbL5MsgrPmBH",
        "outputId": "804716a5-300d-44d3-f7b0-6025b02e55a1"
      },
      "execution_count": 36,
      "outputs": [
        {
          "output_type": "stream",
          "name": "stdout",
          "text": [
            "<__main__.Point object at 0x7ff451f14090>\n",
            "0 1\n"
          ]
        }
      ]
    },
    {
      "cell_type": "code",
      "source": [
        "# pt4를 x축의 방향으로 1만큼, y축의 방향으로 2만큼 이동\n",
        "pt4.move(dx=1, dy=2)\n",
        "print(pt4.x, pt4.y)"
      ],
      "metadata": {
        "colab": {
          "base_uri": "https://localhost:8080/"
        },
        "id": "4NHVYQ4PQt1_",
        "outputId": "e083384b-da3f-4bc1-c9fa-ecace8edcd7c"
      },
      "execution_count": 37,
      "outputs": [
        {
          "output_type": "stream",
          "name": "stdout",
          "text": [
            "1 3\n"
          ]
        }
      ]
    },
    {
      "cell_type": "code",
      "source": [
        "pt1.distance(pt2)"
      ],
      "metadata": {
        "colab": {
          "base_uri": "https://localhost:8080/"
        },
        "id": "HOqrlFxMQ8XB",
        "outputId": "bafb1c37-eba3-4ce7-a410-3724c055e59b"
      },
      "execution_count": 38,
      "outputs": [
        {
          "output_type": "execute_result",
          "data": {
            "text/plain": [
              "5.0"
            ]
          },
          "metadata": {},
          "execution_count": 38
        }
      ]
    },
    {
      "cell_type": "code",
      "source": [
        ""
      ],
      "metadata": {
        "id": "LYjCEYJfRfPi"
      },
      "execution_count": null,
      "outputs": []
    }
  ]
}