{
  "nbformat": 4,
  "nbformat_minor": 0,
  "metadata": {
    "colab": {
      "name": "py05_while.ipynb",
      "provenance": [],
      "collapsed_sections": [],
      "authorship_tag": "ABX9TyPMSOMJc+f34gtofyCBRqNu",
      "include_colab_link": true
    },
    "kernelspec": {
      "name": "python3",
      "display_name": "Python 3"
    },
    "language_info": {
      "name": "python"
    }
  },
  "cells": [
    {
      "cell_type": "markdown",
      "metadata": {
        "id": "view-in-github",
        "colab_type": "text"
      },
      "source": [
        "<a href=\"https://colab.research.google.com/github/JakeOh/202110_itw_lab_python/blob/main/py05_while.ipynb\" target=\"_parent\"><img src=\"https://colab.research.google.com/assets/colab-badge.svg\" alt=\"Open In Colab\"/></a>"
      ]
    },
    {
      "cell_type": "markdown",
      "source": [
        "# while 반복문"
      ],
      "metadata": {
        "id": "DQXM1m991XDY"
      }
    },
    {
      "cell_type": "markdown",
      "source": [
        "```\n",
        "[초기화 문장]\n",
        "while 조건식:\n",
        "    조건식을 만족하는 동안에 반복할 코드(문장들)\n",
        "    [조건을 변경할 수 있는 문장]\n",
        "```"
      ],
      "metadata": {
        "id": "7UgKtm7T1cfJ"
      }
    },
    {
      "cell_type": "code",
      "execution_count": 1,
      "metadata": {
        "colab": {
          "base_uri": "https://localhost:8080/"
        },
        "id": "Lelgyt1d1Q5R",
        "outputId": "fd3f781e-a6e2-488e-fde3-83cf97b0aa1a"
      },
      "outputs": [
        {
          "output_type": "stream",
          "name": "stdout",
          "text": [
            "1\n",
            "2\n",
            "3\n",
            "4\n",
            "5\n"
          ]
        }
      ],
      "source": [
        "for x in range(1, 6):\n",
        "    print(x)"
      ]
    },
    {
      "cell_type": "code",
      "source": [
        "x = 1\n",
        "while x <= 5:\n",
        "    print(x)\n",
        "    # x = x + 1\n",
        "    x += 1  # 복합 할당 연산자(+=, -=, *=, /=, ...)"
      ],
      "metadata": {
        "colab": {
          "base_uri": "https://localhost:8080/"
        },
        "id": "GoKS0GJ52PeY",
        "outputId": "bf99ab4f-e79e-4d5d-b19a-08f3cd2b0df4"
      },
      "execution_count": 4,
      "outputs": [
        {
          "output_type": "stream",
          "name": "stdout",
          "text": [
            "1\n",
            "2\n",
            "3\n",
            "4\n",
            "5\n"
          ]
        }
      ]
    },
    {
      "cell_type": "markdown",
      "source": [
        "* Ctrl(Cmd) + / : 주석 토글"
      ],
      "metadata": {
        "id": "_NPkJWv64vG_"
      }
    },
    {
      "cell_type": "markdown",
      "source": [
        "# 무한 반복문과 break"
      ],
      "metadata": {
        "id": "n4BQU1iR79ov"
      }
    },
    {
      "cell_type": "code",
      "source": [
        "while True:  # 무한 반복문\n",
        "    name = input('이름을 입력하세요... 멈추고 싶으면 q를 입력')\n",
        "    if name == 'q':\n",
        "        break\n",
        "    print(f'안녕하세요, {name}!')"
      ],
      "metadata": {
        "colab": {
          "base_uri": "https://localhost:8080/"
        },
        "id": "qUggwjmS8BVm",
        "outputId": "857b64bd-9da3-473f-b48f-17a3d605f817"
      },
      "execution_count": 6,
      "outputs": [
        {
          "name": "stdout",
          "output_type": "stream",
          "text": [
            "이름을 입력하세요... 멈추고 싶으면 q를 입력abc\n",
            "안녕하세요, abc!\n",
            "이름을 입력하세요... 멈추고 싶으면 q를 입력zzz\n",
            "안녕하세요, zzz!\n",
            "이름을 입력하세요... 멈추고 싶으면 q를 입력q\n"
          ]
        }
      ]
    },
    {
      "cell_type": "markdown",
      "source": [
        "# Exercises\n",
        "\n",
        "while 반복문 사용"
      ],
      "metadata": {
        "id": "sZ3WZnye9ShI"
      }
    },
    {
      "cell_type": "markdown",
      "source": [
        "* 1 이상 10 미만의 홀수들을 출력"
      ],
      "metadata": {
        "id": "e5I4DWn69Vln"
      }
    },
    {
      "cell_type": "code",
      "source": [
        ""
      ],
      "metadata": {
        "id": "BQbjDwbK9a0p"
      },
      "execution_count": null,
      "outputs": []
    },
    {
      "cell_type": "markdown",
      "source": [
        "* 구구단(2단 ~ 9단) 출력\n",
        "\n",
        "```\n",
        "--- 2단 ---\n",
        "2 x 1 = 2\n",
        "...\n",
        "2 x 9 = 18\n",
        "\n",
        "--- 3단 ---\n",
        "3 x 1 = 3\n",
        "...\n",
        "3 x 9 = 27\n",
        "\n",
        "--- 4단 ---\n",
        "...\n",
        "```\n"
      ],
      "metadata": {
        "id": "xuniBV9V9j3H"
      }
    },
    {
      "cell_type": "code",
      "source": [
        ""
      ],
      "metadata": {
        "id": "iMy8zwK49bW6"
      },
      "execution_count": null,
      "outputs": []
    },
    {
      "cell_type": "markdown",
      "source": [
        "* 구구단을 아래와 같이 출력\n",
        "\n",
        "```\n",
        "--- 2단 ---\n",
        "2 x 1 = 2\n",
        "2 x 2 = 4\n",
        "\n",
        "--- 3단 ---\n",
        "3 x 1 = 3\n",
        "3 x 2 = 6\n",
        "3 x 3 = 9\n",
        "\n",
        "...\n",
        "\n",
        "--- 9단 ---\n",
        "9 x 1 = 9\n",
        "...\n",
        "9 x 9 = 81\n",
        "\n",
        "```\n"
      ],
      "metadata": {
        "id": "NnDj4Jxd-Dj7"
      }
    }
  ]
}