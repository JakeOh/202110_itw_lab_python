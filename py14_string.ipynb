{
  "nbformat": 4,
  "nbformat_minor": 0,
  "metadata": {
    "colab": {
      "name": "py14_string.ipynb",
      "provenance": [],
      "collapsed_sections": [],
      "authorship_tag": "ABX9TyNbbjnHyqCLa5GFIusoVqKi",
      "include_colab_link": true
    },
    "kernelspec": {
      "name": "python3",
      "display_name": "Python 3"
    },
    "language_info": {
      "name": "python"
    }
  },
  "cells": [
    {
      "cell_type": "markdown",
      "metadata": {
        "id": "view-in-github",
        "colab_type": "text"
      },
      "source": [
        "<a href=\"https://colab.research.google.com/github/JakeOh/202110_itw_lab_python/blob/main/py14_string.ipynb\" target=\"_parent\"><img src=\"https://colab.research.google.com/assets/colab-badge.svg\" alt=\"Open In Colab\"/></a>"
      ]
    },
    {
      "cell_type": "markdown",
      "source": [
        "# str 클래스의 메서드\n",
        "\n",
        "* str 클래스의 메서드들은 원본 문자열을 변경하지 않음!\n",
        "* 원본 문자열을 변환한 __새로운__ 문자열을 반환함."
      ],
      "metadata": {
        "id": "m4m5q4fTP4F9"
      }
    },
    {
      "cell_type": "code",
      "execution_count": 1,
      "metadata": {
        "id": "-20-lJF-PvY3"
      },
      "outputs": [],
      "source": [
        "s = 'heLLo, pyTHon! 안녕하세요. 12345'  # str 클래스의 인스턴스 생성"
      ]
    },
    {
      "cell_type": "code",
      "source": [
        "s"
      ],
      "metadata": {
        "colab": {
          "base_uri": "https://localhost:8080/",
          "height": 36
        },
        "id": "08AoggTtQW8t",
        "outputId": "a282293a-0dba-4dab-e3df-2bb49a74148c"
      },
      "execution_count": 2,
      "outputs": [
        {
          "output_type": "execute_result",
          "data": {
            "application/vnd.google.colaboratory.intrinsic+json": {
              "type": "string"
            },
            "text/plain": [
              "'heLLo, pyTHon! 안녕하세요. 12345'"
            ]
          },
          "metadata": {},
          "execution_count": 2
        }
      ]
    },
    {
      "cell_type": "code",
      "source": [
        "s.lower()  # 소문자로 변환된 \"새로운\" 문자열을 리턴."
      ],
      "metadata": {
        "colab": {
          "base_uri": "https://localhost:8080/",
          "height": 36
        },
        "id": "5UtML6NoQXdt",
        "outputId": "633fb54b-64a3-4d72-ad1c-4936add51ca2"
      },
      "execution_count": 3,
      "outputs": [
        {
          "output_type": "execute_result",
          "data": {
            "application/vnd.google.colaboratory.intrinsic+json": {
              "type": "string"
            },
            "text/plain": [
              "'hello, python! 안녕하세요. 12345'"
            ]
          },
          "metadata": {},
          "execution_count": 3
        }
      ]
    },
    {
      "cell_type": "code",
      "source": [
        "s  # 원본 문자열 s는 변경되지 않음!"
      ],
      "metadata": {
        "colab": {
          "base_uri": "https://localhost:8080/",
          "height": 36
        },
        "id": "Zid7lKgCQjpM",
        "outputId": "1f7f915b-69ac-4e6a-9544-de2f6fc8ebb0"
      },
      "execution_count": 4,
      "outputs": [
        {
          "output_type": "execute_result",
          "data": {
            "application/vnd.google.colaboratory.intrinsic+json": {
              "type": "string"
            },
            "text/plain": [
              "'heLLo, pyTHon! 안녕하세요. 12345'"
            ]
          },
          "metadata": {},
          "execution_count": 4
        }
      ]
    },
    {
      "cell_type": "code",
      "source": [
        "s.upper()  # 대문자로 변환된 문자열을 리턴."
      ],
      "metadata": {
        "colab": {
          "base_uri": "https://localhost:8080/",
          "height": 36
        },
        "id": "sDt8ZYSEQzwV",
        "outputId": "64e5b086-c754-4b1d-cdde-8188e93b0b8a"
      },
      "execution_count": 5,
      "outputs": [
        {
          "output_type": "execute_result",
          "data": {
            "application/vnd.google.colaboratory.intrinsic+json": {
              "type": "string"
            },
            "text/plain": [
              "'HELLO, PYTHON! 안녕하세요. 12345'"
            ]
          },
          "metadata": {},
          "execution_count": 5
        }
      ]
    },
    {
      "cell_type": "code",
      "source": [
        "s.capitalize()  # 문자열의 첫글자만 대문자, 나머지는 소문자로 변환한 문자열을 리턴."
      ],
      "metadata": {
        "colab": {
          "base_uri": "https://localhost:8080/",
          "height": 36
        },
        "id": "upXijiw-Re2O",
        "outputId": "616a5cd6-0ee1-4897-9a45-1b6fcff2a9df"
      },
      "execution_count": 6,
      "outputs": [
        {
          "output_type": "execute_result",
          "data": {
            "application/vnd.google.colaboratory.intrinsic+json": {
              "type": "string"
            },
            "text/plain": [
              "'Hello, python! 안녕하세요. 12345'"
            ]
          },
          "metadata": {},
          "execution_count": 6
        }
      ]
    },
    {
      "cell_type": "code",
      "source": [
        "s.count('L')  # 문자열에서 substring이 등장하는 회수를 리턴."
      ],
      "metadata": {
        "colab": {
          "base_uri": "https://localhost:8080/"
        },
        "id": "aPWagA45SZqm",
        "outputId": "a8c945e9-cd1a-492c-d26d-fa1e49eb7a34"
      },
      "execution_count": 8,
      "outputs": [
        {
          "output_type": "execute_result",
          "data": {
            "text/plain": [
              "2"
            ]
          },
          "metadata": {},
          "execution_count": 8
        }
      ]
    },
    {
      "cell_type": "code",
      "source": [
        "url = 'https://www.python.org/'\n",
        "url.startswith('http')"
      ],
      "metadata": {
        "colab": {
          "base_uri": "https://localhost:8080/"
        },
        "id": "17xZOm7MTrqN",
        "outputId": "7d88fa32-3f29-4217-abd8-c975c7bea355"
      },
      "execution_count": 9,
      "outputs": [
        {
          "output_type": "execute_result",
          "data": {
            "text/plain": [
              "True"
            ]
          },
          "metadata": {},
          "execution_count": 9
        }
      ]
    },
    {
      "cell_type": "code",
      "source": [
        "url.startswith('ftp')"
      ],
      "metadata": {
        "colab": {
          "base_uri": "https://localhost:8080/"
        },
        "id": "A1QKhmVCVMof",
        "outputId": "2e398de0-8007-4997-e77e-023df0291318"
      },
      "execution_count": 10,
      "outputs": [
        {
          "output_type": "execute_result",
          "data": {
            "text/plain": [
              "False"
            ]
          },
          "metadata": {},
          "execution_count": 10
        }
      ]
    },
    {
      "cell_type": "code",
      "source": [
        "tel = '010-1234-5678'\n",
        "tel.endswith('5678')"
      ],
      "metadata": {
        "colab": {
          "base_uri": "https://localhost:8080/"
        },
        "id": "2xr-tF9TVZKL",
        "outputId": "4223c4df-c884-4079-c620-7b93c569379d"
      },
      "execution_count": 11,
      "outputs": [
        {
          "output_type": "execute_result",
          "data": {
            "text/plain": [
              "True"
            ]
          },
          "metadata": {},
          "execution_count": 11
        }
      ]
    },
    {
      "cell_type": "code",
      "source": [
        "# substring이 string에 포함되어 있는지를 검사: substring in string\n",
        "'1234' in tel"
      ],
      "metadata": {
        "colab": {
          "base_uri": "https://localhost:8080/"
        },
        "id": "3VgphY8wV2zs",
        "outputId": "a35b858e-458a-4b57-82e4-827062ca53db"
      },
      "execution_count": 12,
      "outputs": [
        {
          "output_type": "execute_result",
          "data": {
            "text/plain": [
              "True"
            ]
          },
          "metadata": {},
          "execution_count": 12
        }
      ]
    },
    {
      "cell_type": "code",
      "source": [
        "'0000' in tel"
      ],
      "metadata": {
        "colab": {
          "base_uri": "https://localhost:8080/"
        },
        "id": "s2yizrP5WZYl",
        "outputId": "ff9929d9-540f-4ef6-a113-6cf14758f1d0"
      },
      "execution_count": 13,
      "outputs": [
        {
          "output_type": "execute_result",
          "data": {
            "text/plain": [
              "False"
            ]
          },
          "metadata": {},
          "execution_count": 13
        }
      ]
    },
    {
      "cell_type": "code",
      "source": [
        "email = 'abc.def@gmail.com'\n",
        "email.find('@')  # argument로 전달한 문자열이 처음 등장하는 인덱스. 만약 문자열이 없으면 -1을 리턴."
      ],
      "metadata": {
        "colab": {
          "base_uri": "https://localhost:8080/"
        },
        "id": "c8Fa3RWLWcbc",
        "outputId": "e3825aa6-993f-452a-f679-64ae49fc83df"
      },
      "execution_count": 16,
      "outputs": [
        {
          "output_type": "execute_result",
          "data": {
            "text/plain": [
              "7"
            ]
          },
          "metadata": {},
          "execution_count": 16
        }
      ]
    },
    {
      "cell_type": "code",
      "source": [
        "idx = email.find('@')\n",
        "print(email[:idx])  # 문자열 slicing\n",
        "print(email[(idx + 1):])"
      ],
      "metadata": {
        "colab": {
          "base_uri": "https://localhost:8080/"
        },
        "id": "XeC0iacOXM1s",
        "outputId": "977627f6-4db0-4a38-fe74-e7ecac1e8bb8"
      },
      "execution_count": 18,
      "outputs": [
        {
          "output_type": "stream",
          "name": "stdout",
          "text": [
            "abc.def\n",
            "gmail.com\n"
          ]
        }
      ]
    },
    {
      "cell_type": "code",
      "source": [
        "sentence = 'Textual data in Python is handled with str objects, or strings.'"
      ],
      "metadata": {
        "id": "h1nbq-aaX9Az"
      },
      "execution_count": 19,
      "outputs": []
    },
    {
      "cell_type": "code",
      "source": [
        "sentence.split()  #> 공백(space, tab, enter)을 기준으로 나뉜 문자열들의 list"
      ],
      "metadata": {
        "colab": {
          "base_uri": "https://localhost:8080/"
        },
        "id": "dlVonX6RYumc",
        "outputId": "9e576877-68d2-4001-f7b2-33152bb219af"
      },
      "execution_count": 20,
      "outputs": [
        {
          "output_type": "execute_result",
          "data": {
            "text/plain": [
              "['Textual',\n",
              " 'data',\n",
              " 'in',\n",
              " 'Python',\n",
              " 'is',\n",
              " 'handled',\n",
              " 'with',\n",
              " 'str',\n",
              " 'objects,',\n",
              " 'or',\n",
              " 'strings.']"
            ]
          },
          "metadata": {},
          "execution_count": 20
        }
      ]
    },
    {
      "cell_type": "code",
      "source": [
        "date = '2022-03-11'\n",
        "date.split(sep='-')"
      ],
      "metadata": {
        "colab": {
          "base_uri": "https://localhost:8080/"
        },
        "id": "aC8d13FEZMZ0",
        "outputId": "7151b185-c8d5-4341-872d-e43eb654e398"
      },
      "execution_count": 21,
      "outputs": [
        {
          "output_type": "execute_result",
          "data": {
            "text/plain": [
              "['2022', '03', '11']"
            ]
          },
          "metadata": {},
          "execution_count": 21
        }
      ]
    },
    {
      "cell_type": "code",
      "source": [
        "time = '14:19:30'\n",
        "time.split(sep=':')"
      ],
      "metadata": {
        "colab": {
          "base_uri": "https://localhost:8080/"
        },
        "id": "7GcWwheJahPr",
        "outputId": "a3d5b916-ff3d-456e-81eb-ada6d4a9e78e"
      },
      "execution_count": 22,
      "outputs": [
        {
          "output_type": "execute_result",
          "data": {
            "text/plain": [
              "['14', '19', '30']"
            ]
          },
          "metadata": {},
          "execution_count": 22
        }
      ]
    },
    {
      "cell_type": "code",
      "source": [
        "# CSV: Comma-Separated Values\n",
        "csv='100,Scott,200,scott@itwill.co.kr,1234-5678,IT'\n",
        "csv.split(sep=',')"
      ],
      "metadata": {
        "colab": {
          "base_uri": "https://localhost:8080/"
        },
        "id": "Mi3imBCGazcj",
        "outputId": "568ada27-1247-4ea1-907e-51a1a7cacf78"
      },
      "execution_count": 23,
      "outputs": [
        {
          "output_type": "execute_result",
          "data": {
            "text/plain": [
              "['100', 'Scott', '200', 'scott@itwill.co.kr', '1234-5678', 'IT']"
            ]
          },
          "metadata": {},
          "execution_count": 23
        }
      ]
    },
    {
      "cell_type": "code",
      "source": [
        ""
      ],
      "metadata": {
        "id": "x_daiAk-b0Lk"
      },
      "execution_count": null,
      "outputs": []
    }
  ]
}